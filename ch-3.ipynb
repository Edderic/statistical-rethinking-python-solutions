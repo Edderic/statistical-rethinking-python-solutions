{
 "cells": [
  {
   "cell_type": "markdown",
   "metadata": {
    "toc": "true"
   },
   "source": [
    "# Table of Contents\n",
    " <p>"
   ]
  },
{
   "cell_type": "markdown",
   "metadata": {},
   "source": [
    "# 3.5 Practice"
   ]
  },
  {
   "cell_type": "markdown",
   "metadata": {},
   "source": [
    "## 3E1.\n",
    "\n",
    "How much posterior probability lies below $p=0.2$?"
   ]
  },
  {
   "cell_type": "code",
   "execution_count": 32,
   "metadata": {
    "scrolled": false
   },
   "outputs": [
    {
     "data": {
      "text/plain": [
       "0.00078131518903528654"
      ]
     },
     "execution_count": 32,
     "metadata": {},
     "output_type": "execute_result"
    }
   ],
   "source": [
    "# There are 20 grid points that represent posterior probability of less than 0.2\n",
    "# Summing them gives us probability of less than 0.2\n",
    "posterior[:int(len(posterior)*0.2)].sum()"
   ]
  },
  {
   "cell_type": "code",
   "execution_count": 33,
   "metadata": {
    "scrolled": true
   },
   "outputs": [
    {
     "data": {
      "text/plain": [
       "0.00089999999999999998"
      ]
     },
     "execution_count": 33,
     "metadata": {},
     "output_type": "execute_result"
    }
   ],
   "source": [
    "# Alternatively, we could also look at the samples.\n",
    "# What is the probability of samples being less than 0.2?\n",
    "(hw_samples < 0.2).mean()"
   ]
  },
  {
   "cell_type": "markdown",
   "metadata": {},
   "source": [
    "## 3E2.\n",
    "\n",
    "How much posterior probability lies above $p=0.8$?"
   ]
  },
  {
   "cell_type": "code",
   "execution_count": 34,
   "metadata": {
    "scrolled": false
   },
   "outputs": [
    {
     "data": {
      "text/plain": [
       "0.11553983005329518"
      ]
     },
     "execution_count": 34,
     "metadata": {},
     "output_type": "execute_result"
    }
   ],
   "source": [
    "posterior[int(len(posterior)*0.8):].sum()"
   ]
  },
  {
   "cell_type": "code",
   "execution_count": 35,
   "metadata": {
    "scrolled": true
   },
   "outputs": [
    {
     "data": {
      "text/plain": [
       "0.1169"
      ]
     },
     "execution_count": 35,
     "metadata": {},
     "output_type": "execute_result"
    }
   ],
   "source": [
    "(hw_samples > 0.8).mean()"
   ]
  },
  {
   "cell_type": "markdown",
   "metadata": {},
   "source": [
    "## 3E3. \n",
    "\n",
    "How much posterior probability lies between $p=0.2$ and $p=0.8$?"
   ]
  },
  {
   "cell_type": "code",
   "execution_count": 36,
   "metadata": {},
   "outputs": [
    {
     "data": {
      "text/plain": [
       "0.8836788547576695"
      ]
     },
     "execution_count": 36,
     "metadata": {},
     "output_type": "execute_result"
    }
   ],
   "source": [
    "posterior[int(len(posterior)*0.2):int(len(posterior)*0.8)].sum()"
   ]
  },
  {
   "cell_type": "code",
   "execution_count": 37,
   "metadata": {
    "scrolled": true
   },
   "outputs": [
    {
     "data": {
      "text/plain": [
       "0.88219999999999998"
      ]
     },
     "execution_count": 37,
     "metadata": {},
     "output_type": "execute_result"
    }
   ],
   "source": [
    "((hw_samples < 0.8) & (hw_samples > 0.2)).mean()"
   ]
  },
  {
   "cell_type": "markdown",
   "metadata": {},
   "source": [
    "## 3E4.\n",
    "\n",
    "$20\\%$ of the posterior probability lies below which value of $p$?"
   ]
  },
  {
   "cell_type": "code",
   "execution_count": 38,
   "metadata": {},
   "outputs": [
    {
     "data": {
      "text/plain": [
       "1.0"
      ]
     },
     "execution_count": 38,
     "metadata": {},
     "output_type": "execute_result"
    }
   ],
   "source": [
    "np.percentile([1,2,3,4,5,1,2,3,4,5], 0.2)"
   ]
  },
  {
   "cell_type": "code",
   "execution_count": 39,
   "metadata": {
    "scrolled": true
   },
   "outputs": [
    {
     "data": {
      "text/plain": [
       "0.51515151515151525"
      ]
     },
     "execution_count": 39,
     "metadata": {},
     "output_type": "execute_result"
    }
   ],
   "source": [
    "np.percentile(hw_samples, 20)"
   ]
  },
  {
   "cell_type": "markdown",
   "metadata": {},
   "source": [
    "## 3E5.\n",
    "\n",
    "$20\\%$ of the posterior probability lies above which value of $p$?"
   ]
  },
  {
   "cell_type": "code",
   "execution_count": 40,
   "metadata": {},
   "outputs": [
    {
     "data": {
      "text/plain": [
       "0.75757575757575768"
      ]
     },
     "execution_count": 40,
     "metadata": {},
     "output_type": "execute_result"
    }
   ],
   "source": [
    "np.percentile(hw_samples, 80)"
   ]
  },
  {
   "cell_type": "markdown",
   "metadata": {
    "collapsed": true
   },
   "source": [
    "## 3E6.\n",
    "\n",
    "Which values of $p$ contain the narrowest interval equal to 66% of the posterior probability?"
   ]
  },
  {
   "cell_type": "code",
   "execution_count": 41,
   "metadata": {
    "scrolled": true
   },
   "outputs": [
    {
     "data": {
      "text/plain": [
       "array([ 0.49494949,  0.77777778])"
      ]
     },
     "execution_count": 41,
     "metadata": {},
     "output_type": "execute_result"
    }
   ],
   "source": [
    "np.percentile(hw_samples, [1/6.0*100, 5/6.0*100])"
   ]
  },
  {
   "cell_type": "code",
   "execution_count": 42,
   "metadata": {},
   "outputs": [
    {
     "data": {
      "text/plain": [
       "array([ 0.75757576,  1.        ])"
      ]
     },
     "execution_count": 42,
     "metadata": {},
     "output_type": "execute_result"
    }
   ],
   "source": [
    "# HIPD should be the narrowest because the decrease in heights make up for the decrease in the \n",
    "# width of the interval.\n",
    "\n",
    "pm.hpd(samples, alpha=1.0/3)"
   ]
  },
  {
   "cell_type": "code",
   "execution_count": 43,
   "metadata": {
    "scrolled": true
   },
   "outputs": [
    {
     "data": {
      "text/plain": [
       "array([ 0.49494949,  0.77777778])"
      ]
     },
     "execution_count": 43,
     "metadata": {},
     "output_type": "execute_result"
    }
   ],
   "source": [
    "# Here's the interval where area below the lower-bound is same as area above upper-bound,\n",
    "# just for comparison with HIPD:\n",
    "np.percentile(hw_samples, [1/6.0*100, 5/6.0*100])"
   ]
  },
  {
   "cell_type": "markdown",
   "metadata": {},
   "source": [
    "## 3E7.\n",
    "\n",
    "Which values of $p$ contain $66\\%$ of the posterior probability, assuming equal posterior probability below and above the interval?"
   ]
  },
  {
   "cell_type": "code",
   "execution_count": 44,
   "metadata": {},
   "outputs": [
    {
     "name": "stdout",
     "output_type": "stream",
     "text": [
      "0.646464646465 0.959595959596\n"
     ]
    }
   ],
   "source": [
    "print(np.percentile(samples, 1.0/6 * 100), np.percentile(samples, 5.0/6 * 100))"
   ]
  },
  {
   "cell_type": "markdown",
   "metadata": {},
   "source": [
    "## 3M1.\n",
    "\n",
    "Suppose the globe tossing data had turned out to be 8 water in 15 tosses. Construct the posterior distribution, using grid approximation. Use the same flat prior as before."
   ]
  },
  {
   "cell_type": "code",
   "execution_count": 241,
   "metadata": {},
   "outputs": [
    {
     "name": "stderr",
     "output_type": "stream",
     "text": [
      "/Users/eddericugaddan/anaconda3/envs/pymc/lib/python3.6/site-packages/ipykernel_launcher.py:7: FutureWarning: elementwise comparison failed; returning scalar instead, but in the future will perform elementwise comparison\n",
      "  import sys\n"
     ]
    },
    {
     "data": {
      "image/png": "[encoded data removed]",
      "text/plain": [
       "<matplotlib.figure.Figure at 0x1138f0208>"
      ]
     },
     "metadata": {},
     "output_type": "display_data"
    }
   ],
   "source": [
    "def grid_approx_plot(\n",
    "    points=100, \n",
    "    w=6, \n",
    "    n=9,\n",
    "    prior=np.repeat(5,100),\n",
    "    x_label='probability of water'\n",
    "):\n",
    "    \n",
    "    p_grid, posterior = posterior_grid_approx(\n",
    "        grid_points=points,\n",
    "        success=w,\n",
    "        tosses=n,\n",
    "        prior=prior\n",
    "    )\n",
    "    plt.plot(p_grid, posterior, 'o-', label='success = {}\\ntosses = {}'.format(w, n))\n",
    "    plt.xlabel(x_label)\n",
    "    plt.ylabel('posterior probability')\n",
    "    plt.title('{} points'.format(points))\n",
    "    plt.legend(loc=0)\n",
    "    \n",
    "    return p_grid, posterior\n",
    "    \n",
    "p_grid_n_15_w_8, posterior_n_15_w_8 = grid_approx_plot(\n",
    "    w=8, n=15, points=1000, prior=np.repeat(1, 1000)\n",
    ")"
   ]
  },
  {
   "cell_type": "code",
   "execution_count": 46,
   "metadata": {},
   "outputs": [
    {
     "data": {
      "text/plain": [
       "array([ 0.        ,  0.001001  ,  0.002002  ,  0.003003  ,  0.004004  ,\n",
       "        0.00500501,  0.00600601,  0.00700701,  0.00800801,  0.00900901,\n",
       "        0.01001001,  0.01101101,  0.01201201,  0.01301301,  0.01401401,\n",
       "        0.01501502,  0.01601602,  0.01701702,  0.01801802,  0.01901902,\n",
       "        0.02002002,  0.02102102,  0.02202202,  0.02302302,  0.02402402,\n",
       "        0.02502503,  0.02602603,  0.02702703,  0.02802803,  0.02902903,\n",
       "        0.03003003,  0.03103103,  0.03203203,  0.03303303,  0.03403403,\n",
       "        0.03503504,  0.03603604,  0.03703704,  0.03803804,  0.03903904,\n",
       "        0.04004004,  0.04104104,  0.04204204,  0.04304304,  0.04404404,\n",
       "        0.04504505,  0.04604605,  0.04704705,  0.04804805,  0.04904905,\n",
       "        0.05005005,  0.05105105,  0.05205205,  0.05305305,  0.05405405,\n",
       "        0.05505506,  0.05605606,  0.05705706,  0.05805806,  0.05905906,\n",
       "        0.06006006,  0.06106106,  0.06206206,  0.06306306,  0.06406406,\n",
       "        0.06506507,  0.06606607,  0.06706707,  0.06806807,  0.06906907,\n",
       "        0.07007007,  0.07107107,  0.07207207,  0.07307307,  0.07407407,\n",
       "        0.07507508,  0.07607608,  0.07707708,  0.07807808,  0.07907908,\n",
       "        0.08008008,  0.08108108,  0.08208208,  0.08308308,  0.08408408,\n",
       "        0.08508509,  0.08608609,  0.08708709,  0.08808809,  0.08908909,\n",
       "        0.09009009,  0.09109109,  0.09209209,  0.09309309,  0.09409409,\n",
       "        0.0950951 ,  0.0960961 ,  0.0970971 ,  0.0980981 ,  0.0990991 ,\n",
       "        0.1001001 ,  0.1011011 ,  0.1021021 ,  0.1031031 ,  0.1041041 ,\n",
       "        0.10510511,  0.10610611,  0.10710711,  0.10810811,  0.10910911,\n",
       "        0.11011011,  0.11111111,  0.11211211,  0.11311311,  0.11411411,\n",
       "        0.11511512,  0.11611612,  0.11711712,  0.11811812,  0.11911912,\n",
       "        0.12012012,  0.12112112,  0.12212212,  0.12312312,  0.12412412,\n",
       "        0.12512513,  0.12612613,  0.12712713,  0.12812813,  0.12912913,\n",
       "        0.13013013,  0.13113113,  0.13213213,  0.13313313,  0.13413413,\n",
       "        0.13513514,  0.13613614,  0.13713714,  0.13813814,  0.13913914,\n",
       "        0.14014014,  0.14114114,  0.14214214,  0.14314314,  0.14414414,\n",
       "        0.14514515,  0.14614615,  0.14714715,  0.14814815,  0.14914915,\n",
       "        0.15015015,  0.15115115,  0.15215215,  0.15315315,  0.15415415,\n",
       "        0.15515516,  0.15615616,  0.15715716,  0.15815816,  0.15915916,\n",
       "        0.16016016,  0.16116116,  0.16216216,  0.16316316,  0.16416416,\n",
       "        0.16516517,  0.16616617,  0.16716717,  0.16816817,  0.16916917,\n",
       "        0.17017017,  0.17117117,  0.17217217,  0.17317317,  0.17417417,\n",
       "        0.17517518,  0.17617618,  0.17717718,  0.17817818,  0.17917918,\n",
       "        0.18018018,  0.18118118,  0.18218218,  0.18318318,  0.18418418,\n",
       "        0.18518519,  0.18618619,  0.18718719,  0.18818819,  0.18918919,\n",
       "        0.19019019,  0.19119119,  0.19219219,  0.19319319,  0.19419419,\n",
       "        0.1951952 ,  0.1961962 ,  0.1971972 ,  0.1981982 ,  0.1991992 ,\n",
       "        0.2002002 ,  0.2012012 ,  0.2022022 ,  0.2032032 ,  0.2042042 ,\n",
       "        0.20520521,  0.20620621,  0.20720721,  0.20820821,  0.20920921,\n",
       "        0.21021021,  0.21121121,  0.21221221,  0.21321321,  0.21421421,\n",
       "        0.21521522,  0.21621622,  0.21721722,  0.21821822,  0.21921922,\n",
       "        0.22022022,  0.22122122,  0.22222222,  0.22322322,  0.22422422,\n",
       "        0.22522523,  0.22622623,  0.22722723,  0.22822823,  0.22922923,\n",
       "        0.23023023,  0.23123123,  0.23223223,  0.23323323,  0.23423423,\n",
       "        0.23523524,  0.23623624,  0.23723724,  0.23823824,  0.23923924,\n",
       "        0.24024024,  0.24124124,  0.24224224,  0.24324324,  0.24424424,\n",
       "        0.24524525,  0.24624625,  0.24724725,  0.24824825,  0.24924925,\n",
       "        0.25025025,  0.25125125,  0.25225225,  0.25325325,  0.25425425,\n",
       "        0.25525526,  0.25625626,  0.25725726,  0.25825826,  0.25925926,\n",
       "        0.26026026,  0.26126126,  0.26226226,  0.26326326,  0.26426426,\n",
       "        0.26526527,  0.26626627,  0.26726727,  0.26826827,  0.26926927,\n",
       "        0.27027027,  0.27127127,  0.27227227,  0.27327327,  0.27427427,\n",
       "        0.27527528,  0.27627628,  0.27727728,  0.27827828,  0.27927928,\n",
       "        0.28028028,  0.28128128,  0.28228228,  0.28328328,  0.28428428,\n",
       "        0.28528529,  0.28628629,  0.28728729,  0.28828829,  0.28928929,\n",
       "        0.29029029,  0.29129129,  0.29229229,  0.29329329,  0.29429429,\n",
       "        0.2952953 ,  0.2962963 ,  0.2972973 ,  0.2982983 ,  0.2992993 ,\n",
       "        0.3003003 ,  0.3013013 ,  0.3023023 ,  0.3033033 ,  0.3043043 ,\n",
       "        0.30530531,  0.30630631,  0.30730731,  0.30830831,  0.30930931,\n",
       "        0.31031031,  0.31131131,  0.31231231,  0.31331331,  0.31431431,\n",
       "        0.31531532,  0.31631632,  0.31731732,  0.31831832,  0.31931932,\n",
       "        0.32032032,  0.32132132,  0.32232232,  0.32332332,  0.32432432,\n",
       "        0.32532533,  0.32632633,  0.32732733,  0.32832833,  0.32932933,\n",
       "        0.33033033,  0.33133133,  0.33233233,  0.33333333,  0.33433433,\n",
       "        0.33533534,  0.33633634,  0.33733734,  0.33833834,  0.33933934,\n",
       "        0.34034034,  0.34134134,  0.34234234,  0.34334334,  0.34434434,\n",
       "        0.34534535,  0.34634635,  0.34734735,  0.34834835,  0.34934935,\n",
       "        0.35035035,  0.35135135,  0.35235235,  0.35335335,  0.35435435,\n",
       "        0.35535536,  0.35635636,  0.35735736,  0.35835836,  0.35935936,\n",
       "        0.36036036,  0.36136136,  0.36236236,  0.36336336,  0.36436436,\n",
       "        0.36536537,  0.36636637,  0.36736737,  0.36836837,  0.36936937,\n",
       "        0.37037037,  0.37137137,  0.37237237,  0.37337337,  0.37437437,\n",
       "        0.37537538,  0.37637638,  0.37737738,  0.37837838,  0.37937938,\n",
       "        0.38038038,  0.38138138,  0.38238238,  0.38338338,  0.38438438,\n",
       "        0.38538539,  0.38638639,  0.38738739,  0.38838839,  0.38938939,\n",
       "        0.39039039,  0.39139139,  0.39239239,  0.39339339,  0.39439439,\n",
       "        0.3953954 ,  0.3963964 ,  0.3973974 ,  0.3983984 ,  0.3993994 ,\n",
       "        0.4004004 ,  0.4014014 ,  0.4024024 ,  0.4034034 ,  0.4044044 ,\n",
       "        0.40540541,  0.40640641,  0.40740741,  0.40840841,  0.40940941,\n",
       "        0.41041041,  0.41141141,  0.41241241,  0.41341341,  0.41441441,\n",
       "        0.41541542,  0.41641642,  0.41741742,  0.41841842,  0.41941942,\n",
       "        0.42042042,  0.42142142,  0.42242242,  0.42342342,  0.42442442,\n",
       "        0.42542543,  0.42642643,  0.42742743,  0.42842843,  0.42942943,\n",
       "        0.43043043,  0.43143143,  0.43243243,  0.43343343,  0.43443443,\n",
       "        0.43543544,  0.43643644,  0.43743744,  0.43843844,  0.43943944,\n",
       "        0.44044044,  0.44144144,  0.44244244,  0.44344344,  0.44444444,\n",
       "        0.44544545,  0.44644645,  0.44744745,  0.44844845,  0.44944945,\n",
       "        0.45045045,  0.45145145,  0.45245245,  0.45345345,  0.45445445,\n",
       "        0.45545546,  0.45645646,  0.45745746,  0.45845846,  0.45945946,\n",
       "        0.46046046,  0.46146146,  0.46246246,  0.46346346,  0.46446446,\n",
       "        0.46546547,  0.46646647,  0.46746747,  0.46846847,  0.46946947,\n",
       "        0.47047047,  0.47147147,  0.47247247,  0.47347347,  0.47447447,\n",
       "        0.47547548,  0.47647648,  0.47747748,  0.47847848,  0.47947948,\n",
       "        0.48048048,  0.48148148,  0.48248248,  0.48348348,  0.48448448,\n",
       "        0.48548549,  0.48648649,  0.48748749,  0.48848849,  0.48948949,\n",
       "        0.49049049,  0.49149149,  0.49249249,  0.49349349,  0.49449449,\n",
       "        0.4954955 ,  0.4964965 ,  0.4974975 ,  0.4984985 ,  0.4994995 ,\n",
       "        0.5005005 ,  0.5015015 ,  0.5025025 ,  0.5035035 ,  0.5045045 ,\n",
       "        0.50550551,  0.50650651,  0.50750751,  0.50850851,  0.50950951,\n",
       "        0.51051051,  0.51151151,  0.51251251,  0.51351351,  0.51451451,\n",
       "        0.51551552,  0.51651652,  0.51751752,  0.51851852,  0.51951952,\n",
       "        0.52052052,  0.52152152,  0.52252252,  0.52352352,  0.52452452,\n",
       "        0.52552553,  0.52652653,  0.52752753,  0.52852853,  0.52952953,\n",
       "        0.53053053,  0.53153153,  0.53253253,  0.53353353,  0.53453453,\n",
       "        0.53553554,  0.53653654,  0.53753754,  0.53853854,  0.53953954,\n",
       "        0.54054054,  0.54154154,  0.54254254,  0.54354354,  0.54454454,\n",
       "        0.54554555,  0.54654655,  0.54754755,  0.54854855,  0.54954955,\n",
       "        0.55055055,  0.55155155,  0.55255255,  0.55355355,  0.55455455,\n",
       "        0.55555556,  0.55655656,  0.55755756,  0.55855856,  0.55955956,\n",
       "        0.56056056,  0.56156156,  0.56256256,  0.56356356,  0.56456456,\n",
       "        0.56556557,  0.56656657,  0.56756757,  0.56856857,  0.56956957,\n",
       "        0.57057057,  0.57157157,  0.57257257,  0.57357357,  0.57457457,\n",
       "        0.57557558,  0.57657658,  0.57757758,  0.57857858,  0.57957958,\n",
       "        0.58058058,  0.58158158,  0.58258258,  0.58358358,  0.58458458,\n",
       "        0.58558559,  0.58658659,  0.58758759,  0.58858859,  0.58958959,\n",
       "        0.59059059,  0.59159159,  0.59259259,  0.59359359,  0.59459459,\n",
       "        0.5955956 ,  0.5965966 ,  0.5975976 ,  0.5985986 ,  0.5995996 ,\n",
       "        0.6006006 ,  0.6016016 ,  0.6026026 ,  0.6036036 ,  0.6046046 ,\n",
       "        0.60560561,  0.60660661,  0.60760761,  0.60860861,  0.60960961,\n",
       "        0.61061061,  0.61161161,  0.61261261,  0.61361361,  0.61461461,\n",
       "        0.61561562,  0.61661662,  0.61761762,  0.61861862,  0.61961962,\n",
       "        0.62062062,  0.62162162,  0.62262262,  0.62362362,  0.62462462,\n",
       "        0.62562563,  0.62662663,  0.62762763,  0.62862863,  0.62962963,\n",
       "        0.63063063,  0.63163163,  0.63263263,  0.63363363,  0.63463463,\n",
       "        0.63563564,  0.63663664,  0.63763764,  0.63863864,  0.63963964,\n",
       "        0.64064064,  0.64164164,  0.64264264,  0.64364364,  0.64464464,\n",
       "        0.64564565,  0.64664665,  0.64764765,  0.64864865,  0.64964965,\n",
       "        0.65065065,  0.65165165,  0.65265265,  0.65365365,  0.65465465,\n",
       "        0.65565566,  0.65665666,  0.65765766,  0.65865866,  0.65965966,\n",
       "        0.66066066,  0.66166166,  0.66266266,  0.66366366,  0.66466466,\n",
       "        0.66566567,  0.66666667,  0.66766767,  0.66866867,  0.66966967,\n",
       "        0.67067067,  0.67167167,  0.67267267,  0.67367367,  0.67467467,\n",
       "        0.67567568,  0.67667668,  0.67767768,  0.67867868,  0.67967968,\n",
       "        0.68068068,  0.68168168,  0.68268268,  0.68368368,  0.68468468,\n",
       "        0.68568569,  0.68668669,  0.68768769,  0.68868869,  0.68968969,\n",
       "        0.69069069,  0.69169169,  0.69269269,  0.69369369,  0.69469469,\n",
       "        0.6956957 ,  0.6966967 ,  0.6976977 ,  0.6986987 ,  0.6996997 ,\n",
       "        0.7007007 ,  0.7017017 ,  0.7027027 ,  0.7037037 ,  0.7047047 ,\n",
       "        0.70570571,  0.70670671,  0.70770771,  0.70870871,  0.70970971,\n",
       "        0.71071071,  0.71171171,  0.71271271,  0.71371371,  0.71471471,\n",
       "        0.71571572,  0.71671672,  0.71771772,  0.71871872,  0.71971972,\n",
       "        0.72072072,  0.72172172,  0.72272272,  0.72372372,  0.72472472,\n",
       "        0.72572573,  0.72672673,  0.72772773,  0.72872873,  0.72972973,\n",
       "        0.73073073,  0.73173173,  0.73273273,  0.73373373,  0.73473473,\n",
       "        0.73573574,  0.73673674,  0.73773774,  0.73873874,  0.73973974,\n",
       "        0.74074074,  0.74174174,  0.74274274,  0.74374374,  0.74474474,\n",
       "        0.74574575,  0.74674675,  0.74774775,  0.74874875,  0.74974975,\n",
       "        0.75075075,  0.75175175,  0.75275275,  0.75375375,  0.75475475,\n",
       "        0.75575576,  0.75675676,  0.75775776,  0.75875876,  0.75975976,\n",
       "        0.76076076,  0.76176176,  0.76276276,  0.76376376,  0.76476476,\n",
       "        0.76576577,  0.76676677,  0.76776777,  0.76876877,  0.76976977,\n",
       "        0.77077077,  0.77177177,  0.77277277,  0.77377377,  0.77477477,\n",
       "        0.77577578,  0.77677678,  0.77777778,  0.77877878,  0.77977978,\n",
       "        0.78078078,  0.78178178,  0.78278278,  0.78378378,  0.78478478,\n",
       "        0.78578579,  0.78678679,  0.78778779,  0.78878879,  0.78978979,\n",
       "        0.79079079,  0.79179179,  0.79279279,  0.79379379,  0.79479479,\n",
       "        0.7957958 ,  0.7967968 ,  0.7977978 ,  0.7987988 ,  0.7997998 ,\n",
       "        0.8008008 ,  0.8018018 ,  0.8028028 ,  0.8038038 ,  0.8048048 ,\n",
       "        0.80580581,  0.80680681,  0.80780781,  0.80880881,  0.80980981,\n",
       "        0.81081081,  0.81181181,  0.81281281,  0.81381381,  0.81481481,\n",
       "        0.81581582,  0.81681682,  0.81781782,  0.81881882,  0.81981982,\n",
       "        0.82082082,  0.82182182,  0.82282282,  0.82382382,  0.82482482,\n",
       "        0.82582583,  0.82682683,  0.82782783,  0.82882883,  0.82982983,\n",
       "        0.83083083,  0.83183183,  0.83283283,  0.83383383,  0.83483483,\n",
       "        0.83583584,  0.83683684,  0.83783784,  0.83883884,  0.83983984,\n",
       "        0.84084084,  0.84184184,  0.84284284,  0.84384384,  0.84484484,\n",
       "        0.84584585,  0.84684685,  0.84784785,  0.84884885,  0.84984985,\n",
       "        0.85085085,  0.85185185,  0.85285285,  0.85385385,  0.85485485,\n",
       "        0.85585586,  0.85685686,  0.85785786,  0.85885886,  0.85985986,\n",
       "        0.86086086,  0.86186186,  0.86286286,  0.86386386,  0.86486486,\n",
       "        0.86586587,  0.86686687,  0.86786787,  0.86886887,  0.86986987,\n",
       "        0.87087087,  0.87187187,  0.87287287,  0.87387387,  0.87487487,\n",
       "        0.87587588,  0.87687688,  0.87787788,  0.87887888,  0.87987988,\n",
       "        0.88088088,  0.88188188,  0.88288288,  0.88388388,  0.88488488,\n",
       "        0.88588589,  0.88688689,  0.88788789,  0.88888889,  0.88988989,\n",
       "        0.89089089,  0.89189189,  0.89289289,  0.89389389,  0.89489489,\n",
       "        0.8958959 ,  0.8968969 ,  0.8978979 ,  0.8988989 ,  0.8998999 ,\n",
       "        0.9009009 ,  0.9019019 ,  0.9029029 ,  0.9039039 ,  0.9049049 ,\n",
       "        0.90590591,  0.90690691,  0.90790791,  0.90890891,  0.90990991,\n",
       "        0.91091091,  0.91191191,  0.91291291,  0.91391391,  0.91491491,\n",
       "        0.91591592,  0.91691692,  0.91791792,  0.91891892,  0.91991992,\n",
       "        0.92092092,  0.92192192,  0.92292292,  0.92392392,  0.92492492,\n",
       "        0.92592593,  0.92692693,  0.92792793,  0.92892893,  0.92992993,\n",
       "        0.93093093,  0.93193193,  0.93293293,  0.93393393,  0.93493493,\n",
       "        0.93593594,  0.93693694,  0.93793794,  0.93893894,  0.93993994,\n",
       "        0.94094094,  0.94194194,  0.94294294,  0.94394394,  0.94494494,\n",
       "        0.94594595,  0.94694695,  0.94794795,  0.94894895,  0.94994995,\n",
       "        0.95095095,  0.95195195,  0.95295295,  0.95395395,  0.95495495,\n",
       "        0.95595596,  0.95695696,  0.95795796,  0.95895896,  0.95995996,\n",
       "        0.96096096,  0.96196196,  0.96296296,  0.96396396,  0.96496496,\n",
       "        0.96596597,  0.96696697,  0.96796797,  0.96896897,  0.96996997,\n",
       "        0.97097097,  0.97197197,  0.97297297,  0.97397397,  0.97497497,\n",
       "        0.97597598,  0.97697698,  0.97797798,  0.97897898,  0.97997998,\n",
       "        0.98098098,  0.98198198,  0.98298298,  0.98398398,  0.98498498,\n",
       "        0.98598599,  0.98698699,  0.98798799,  0.98898899,  0.98998999,\n",
       "        0.99099099,  0.99199199,  0.99299299,  0.99399399,  0.99499499,\n",
       "        0.995996  ,  0.996997  ,  0.997998  ,  0.998999  ,  1.        ])"
      ]
     },
     "execution_count": 46,
     "metadata": {},
     "output_type": "execute_result"
    }
   ],
   "source": [
    "p_grid_n_15_w_8"
   ]
  },
  {
   "cell_type": "markdown",
   "metadata": {},
   "source": [
    "## 3M2. \n",
    "\n",
    "Draw 10,000 samples from the grid approximation from above. Then use the samples to calculate the 90% HPDI for $p$."
   ]
  },
  {
   "cell_type": "code",
   "execution_count": 47,
   "metadata": {},
   "outputs": [
    {
     "data": {
      "text/plain": [
       "array([ 0.34034034,  0.72672673])"
      ]
     },
     "execution_count": 47,
     "metadata": {},
     "output_type": "execute_result"
    }
   ],
   "source": [
    "# for 10000 times, choose from p_grid_n_15_w_8 with probability p\n",
    "samples_15_w_8 = np.random.choice(p_grid_n_15_w_8, p=posterior_n_15_w_8, size=int(10000), replace=True)\n",
    "pm.hpd(samples_15_w_8, alpha=1.0-0.9)"
   ]
  },
  {
   "cell_type": "code",
   "execution_count": 48,
   "metadata": {
    "scrolled": true
   },
   "outputs": [
    {
     "name": "stdout",
     "output_type": "stream",
     "text": [
      "This notebook was created on a computer x86_64 running   and using:\n",
      "Python 3.6.1\n",
      "IPython 6.1.0\n",
      "PyMC3 3.1\n",
      "NumPy 1.13.1\n",
      "SciPy 0.19.1\n",
      "Matplotlib 2.0.2\n",
      "Seaborn 0.7.1\n",
      "\n"
     ]
    }
   ],
   "source": [
    "import sys, IPython, scipy, matplotlib, platform\n",
    "print(\"This notebook was created on a computer %s running %s and using:\\nPython %s\\nIPython %s\\nPyMC3 %s\\nNumPy %s\\nSciPy %s\\nMatplotlib %s\\nSeaborn %s\\n\" % (platform.machine(), ' '.join(platform.linux_distribution()[:2]), sys.version[:5], IPython.__version__, pm.__version__, np.__version__, scipy.__version__, matplotlib.__version__, sns.__version__))"
   ]
  },
  {
   "cell_type": "markdown",
   "metadata": {},
   "source": [
    "## 3M3.\n",
    "\n",
    "Construct a posterior predictive check for this model and data. This means simulate the distribution of samples, averaging over the posterior uncertainty in $p$. What is the probability of observing 8 water in 15 tosses?"
   ]
  },
  {
   "cell_type": "code",
   "execution_count": 49,
   "metadata": {},
   "outputs": [
    {
     "name": "stdout",
     "output_type": "stream",
     "text": [
      "10000\n"
     ]
    },
    {
     "data": {
      "text/plain": [
       "array([ 0.66366366,  0.8048048 ,  0.71071071, ...,  0.62062062,\n",
       "        0.68368368,  0.4034034 ])"
      ]
     },
     "execution_count": 49,
     "metadata": {},
     "output_type": "execute_result"
    }
   ],
   "source": [
    "print(len(samples_15_w_8))\n",
    "samples_15_w_8"
   ]
  },
  {
   "cell_type": "code",
   "execution_count": 318,
   "metadata": {
    "scrolled": true
   },
   "outputs": [
    {
     "data": {
      "text/plain": [
       "array([10, 12, 13, ...,  7,  9,  4])"
      ]
     },
     "execution_count": 318,
     "metadata": {},
     "output_type": "execute_result"
    },
    {
     "data": {
      "image/png": "[encoded data removed]",
      "text/plain": [
       "<matplotlib.figure.Figure at 0x114c00b00>"
      ]
     },
     "metadata": {},
     "output_type": "display_data"
    }
   ],
   "source": [
    "def dummy_values(\n",
    "    n=15,\n",
    "    p=[], \n",
    "    extra_title=\"\", \n",
    "    max_y=2000,\n",
    "    bins=50,\n",
    "    xlabel='dummy water count'\n",
    "):\n",
    "    \n",
    "    assert len(p) > 0, \"Please give probabilities!\"\n",
    "    dummy = stats.binom.rvs(n=n, p=p)\n",
    "\n",
    "    axes = plt.gca()\n",
    "    axes.set_xlim([0,n])\n",
    "    axes.set_ylim([0,max_y])\n",
    "    plt.hist(dummy, bins=bins, alpha=0.5)\n",
    "    plt.xlabel(xlabel);\n",
    "    plt.title('Posterior Predictive Distribution: {}'.format(extra_title))\n",
    "\n",
    "    return dummy\n",
    "\n",
    "dummy_values(n=15, p=samples_15_w_8)\n",
    "\n",
    "# Plain English:\n",
    "# If you didn't know the exact value of p, after observing the data,\n",
    "# when you toss the globe 15 times,\n",
    "# what's the probability of getting a total of 1,2,3... waters when you toss \n",
    "# the globe?\n",
    "#\n",
    "# P(D | w=8, n=15)"
   ]
  },
  {
   "cell_type": "code",
   "execution_count": 51,
   "metadata": {},
   "outputs": [
    {
     "data": {
      "text/plain": [
       "array([ 8, 11, 11, ...,  8,  9,  6])"
      ]
     },
     "execution_count": 51,
     "metadata": {},
     "output_type": "execute_result"
    }
   ],
   "source": [
    "dummy_values_w_hw"
   ]
  },
  {
   "cell_type": "code",
   "execution_count": 52,
   "metadata": {
    "scrolled": true
   },
   "outputs": [
    {
     "data": {
      "text/plain": [
       "0.14680000000000001"
      ]
     },
     "execution_count": 52,
     "metadata": {},
     "output_type": "execute_result"
    }
   ],
   "source": [
    "(dummy_values_w_hw == 8).mean()"
   ]
  },
  {
   "cell_type": "markdown",
   "metadata": {},
   "source": [
    "## 3M4.\n",
    "\n",
    "Using the posterior distribution constructed from the new (8/15) data, now calculate the probability of observing 6 water in 9 tosses."
   ]
  },
  {
   "cell_type": "code",
   "execution_count": 126,
   "metadata": {
    "scrolled": true
   },
   "outputs": [
    {
     "data": {
      "text/plain": [
       "<matplotlib.text.Text at 0x11499cf60>"
      ]
     },
     "execution_count": 126,
     "metadata": {},
     "output_type": "execute_result"
    },
    {
     "data": {
      "image/png": "[encoded data removed]",
      "text/plain": [
       "<matplotlib.figure.Figure at 0x1150d72b0>"
      ]
     },
     "metadata": {},
     "output_type": "display_data"
    }
   ],
   "source": [
    "dummy_values_w_hw_9_tosses = stats.binom.rvs(n=9, p=samples_15_w_8)\n",
    "#dummy_w = stats.binom.rvs(n=9, p=0.6, size=int(1e4))\n",
    "#dummy_w = stats.binom.rvs(n=9, p=samples)\n",
    "\n",
    "plt.hist(dummy_values_w_hw_9_tosses, bins=50)\n",
    "plt.xlabel('dummy water count');\n",
    "plt.title('Posterior Predictive Distribution, 9 tosses')\n",
    "\n",
    "# Plain English:\n",
    "# If you didn't know the exact value of p, after observing the data,\n",
    "# when you toss the globe 15 times,\n",
    "# what's the probability of getting a total of 1,2,3... waters when you toss \n",
    "# the globe?\n",
    "#\n",
    "# P(D | w=8, n=15)"
   ]
  },
  {
   "cell_type": "code",
   "execution_count": 117,
   "metadata": {
    "collapsed": true
   },
   "outputs": [],
   "source": [
    "def posterior_pred_dist(n=9, p=samples_15_w_8):\n",
    "    dummy_values_w = stats.binom.rvs(n=n, p=p)\n",
    "    #dummy_w = stats.binom.rvs(n=9, p=0.6, size=int(1e4))\n",
    "    #dummy_w = stats.binom.rvs(n=9, p=samples)\n",
    "\n",
    "    plt.hist(dummy_values_w, bins=50)\n",
    "    plt.xlabel('dummy water count');\n",
    "    plt.title('Posterior Predictive Distribution, {} tosses'.format(n))\n",
    "    \n",
    "    return dummy_values_w"
   ]
  },
  {
   "cell_type": "code",
   "execution_count": 118,
   "metadata": {
    "scrolled": false
   },
   "outputs": [
    {
     "data": {
      "text/plain": [
       "array([3, 5, 4, 5, 1, 6, 7, 5, 5, 7, 3, 4, 5, 6, 4, 6, 5, 4, 6, 4, 6, 4, 2,\n",
       "       5, 5, 5, 5, 2, 5, 4, 6, 2, 4, 4, 8, 5, 6, 4, 7, 6, 8, 4, 6, 5, 5, 5,\n",
       "       6, 4, 5, 7, 4, 2, 2, 7, 6, 6, 5, 3, 5, 5, 5, 2, 6, 5, 5, 4, 3, 5, 5,\n",
       "       8, 4, 4, 2, 3, 3, 4, 5, 6, 4, 6, 2, 4, 3, 5, 4, 5, 8, 3, 6, 3, 2, 6,\n",
       "       4, 7, 4, 3, 4, 1, 5, 3, 3, 6, 5, 3, 5, 4, 4, 8, 6, 4, 3, 5, 5, 5, 6,\n",
       "       5, 5, 4, 1, 3, 5, 4, 5, 6, 3, 5, 7, 6, 5, 6, 2, 6, 5, 4, 6, 4, 6, 5,\n",
       "       2, 4, 2, 7, 5, 5, 5, 5, 6, 3, 5, 4, 5, 7, 3, 5, 3, 5, 4, 2, 6, 3, 5,\n",
       "       5, 5, 8, 5, 3, 3, 6, 2, 6, 5, 2, 2, 7, 3, 3, 5, 7, 7, 1, 4, 6, 7, 5,\n",
       "       5, 5, 4, 4, 3, 6, 6, 3, 7, 1, 4, 4, 4, 5, 5, 5, 5, 5, 5, 5, 6, 5, 4,\n",
       "       4, 7, 4, 5, 5, 6, 5, 3, 4, 7, 6, 5, 5, 2, 4, 2, 2, 6, 3, 2, 7, 7, 4,\n",
       "       5, 4, 5, 5, 3, 4, 5, 6, 6, 7, 3, 5, 4, 2, 2, 4, 4, 6, 3, 4, 5, 5, 4,\n",
       "       5, 3, 5, 3, 5, 5, 7, 4, 5, 2, 5, 5, 5, 3, 5, 2, 3, 3, 4, 5, 5, 5, 4,\n",
       "       5, 4, 2, 4, 3, 1, 4, 6, 6, 4, 4, 5, 5, 5, 3, 6, 3, 5, 8, 3, 4, 4, 4,\n",
       "       2, 8, 4, 5, 5, 5, 4, 5, 5, 5, 2, 5, 7, 3, 4, 5, 3, 3, 6, 3, 3, 4, 4,\n",
       "       4, 3, 5, 4, 7, 4, 3, 4, 5, 6, 3, 4, 4, 3, 7, 5, 6, 6, 4, 2, 3, 4, 5,\n",
       "       5, 4, 6, 5, 4, 4, 4, 7, 5, 3, 3, 4, 4, 3, 6, 6, 6, 7, 3, 6, 4, 3, 5,\n",
       "       5, 6, 5, 4, 6, 3, 5, 4, 4, 5, 5, 3, 5, 7, 5, 7, 5, 5, 5, 5, 7, 3, 7,\n",
       "       6, 1, 3, 3, 4, 8, 5, 3, 2, 7, 2, 5, 5, 6, 5, 5, 5, 4, 3, 5, 6, 5, 3,\n",
       "       6, 6, 6, 4, 6, 5, 2, 4, 4, 3, 6, 4, 6, 4, 7, 5, 6, 5, 7, 6, 4, 5, 7,\n",
       "       5, 4, 4, 2, 5, 2, 4, 4, 2, 5, 4, 5, 5, 3, 2, 7, 6, 2, 3, 4, 5, 4, 6,\n",
       "       5, 6, 6, 3, 4, 8, 4, 6, 7, 6, 7, 5, 6, 4, 2, 5, 4, 7, 2, 3, 3, 6, 4,\n",
       "       4, 5, 5, 3, 4, 3, 7, 4, 4, 4, 5, 5, 5, 6, 4, 7, 6, 6, 3, 4, 2, 7, 4,\n",
       "       3, 4, 5, 3, 5, 5, 8, 6, 8, 7, 5, 7, 4, 3, 6, 7, 5, 2, 2, 7, 6, 4, 6,\n",
       "       2, 5, 6, 7, 4, 2, 3, 4, 5, 5, 6, 3, 6, 4, 6, 5, 4, 2, 3, 7, 5, 2, 3,\n",
       "       6, 4, 5, 5, 3, 6, 6, 4, 6, 6, 2, 4, 5, 6, 6, 5, 6, 6, 1, 3, 4, 4, 5,\n",
       "       5, 3, 3, 6, 6, 6, 4, 4, 5, 2, 3, 3, 5, 7, 6, 6, 5, 4, 7, 5, 2, 6, 5,\n",
       "       5, 4, 2, 4, 7, 5, 4, 3, 7, 4, 6, 2, 4, 3, 3, 3, 6, 2, 5, 2, 4, 4, 4,\n",
       "       6, 3, 4, 9, 5, 6, 4, 4, 1, 8, 3, 2, 2, 6, 3, 5, 4, 6, 7, 5, 6, 6, 3,\n",
       "       5, 4, 5, 4, 7, 5, 5, 5, 2, 7, 6, 6, 5, 4, 4, 5, 5, 6, 4, 7, 7, 3, 5,\n",
       "       8, 7, 5, 3, 4, 7, 5, 5, 3, 5, 6, 7, 6, 5, 7, 3, 2, 4, 4, 5, 7, 7, 6,\n",
       "       5, 7, 3, 6, 4, 4, 4, 6, 4, 2, 2, 3, 5, 5, 4, 5, 6, 4, 4, 2, 6, 6, 5,\n",
       "       7, 3, 7, 5, 6, 4, 6, 5, 5, 5, 7, 4, 3, 4, 9, 4, 7, 2, 6, 4, 3, 5, 5,\n",
       "       5, 6, 5, 5, 6, 4, 4, 7, 4, 7, 5, 6, 3, 5, 2, 6, 5, 3, 8, 4, 6, 7, 5,\n",
       "       3, 4, 2, 6, 3, 5, 5, 6, 5, 4, 7, 4, 5, 2, 4, 5, 4, 4, 7, 6, 3, 2, 3,\n",
       "       4, 2, 5, 5, 3, 3, 2, 5, 4, 7, 7, 2, 4, 4, 6, 3, 7, 3, 8, 4, 1, 4, 3,\n",
       "       5, 7, 5, 4, 6, 4, 6, 5, 5, 5, 6, 6, 7, 6, 4, 5, 7, 4, 6, 4, 6, 3, 5,\n",
       "       3, 5, 1, 2, 5, 3, 4, 3, 6, 6, 5, 3, 5, 3, 4, 5, 6, 1, 6, 5, 5, 4, 4,\n",
       "       2, 3, 7, 7, 6, 4, 3, 5, 6, 4, 4, 4, 7, 7, 4, 4, 4, 4, 7, 5, 6, 5, 4,\n",
       "       8, 4, 4, 4, 5, 6, 4, 7, 5, 4, 6, 3, 5, 3, 6, 5, 7, 5, 2, 5, 7, 3, 3,\n",
       "       6, 6, 5, 5, 5, 4, 4, 6, 6, 7, 3, 4, 2, 3, 4, 3, 2, 5, 3, 9, 4, 5, 5,\n",
       "       7, 4, 8, 6, 5, 3, 3, 6, 5, 4, 7, 5, 6, 5, 4, 3, 4, 4, 2, 4, 6, 7, 6,\n",
       "       6, 4, 6, 4, 6, 2, 6, 6, 8, 4, 4, 4, 5, 3, 4, 3, 5, 4, 2, 5, 3, 7, 3,\n",
       "       7, 5, 4, 5, 4, 6, 5, 5, 3, 4, 3, 4, 7, 3, 3, 3, 5, 3, 2, 7, 5, 5, 4,\n",
       "       4, 5, 5, 3, 5, 5, 5, 2, 4, 4, 5])"
      ]
     },
     "execution_count": 118,
     "metadata": {},
     "output_type": "execute_result"
    },
    {
     "data": {
      "image/png": "[encoded data removed]",
      "text/plain": [
       "<matplotlib.figure.Figure at 0x115109a90>"
      ]
     },
     "metadata": {},
     "output_type": "display_data"
    }
   ],
   "source": [
    "posterior_pred_dist(n=9, p=np.ones(1000) * 0.5)"
   ]
  },
  {
   "cell_type": "code",
   "execution_count": 123,
   "metadata": {
    "scrolled": true
   },
   "outputs": [
    {
     "data": {
      "image/png": "[encoded data removed]",
      "text/plain": [
       "<matplotlib.figure.Figure at 0x11510d080>"
      ]
     },
     "metadata": {},
     "output_type": "display_data"
    }
   ],
   "source": [
    "dummy_vals = posterior_pred_dist(n=9, p=samples_15_w_8)"
   ]
  },
  {
   "cell_type": "code",
   "execution_count": 124,
   "metadata": {
    "scrolled": true
   },
   "outputs": [
    {
     "data": {
      "text/plain": [
       "0.1726"
      ]
     },
     "execution_count": 124,
     "metadata": {},
     "output_type": "execute_result"
    }
   ],
   "source": [
    "(dummy_vals == 6).mean()"
   ]
  },
  {
   "cell_type": "code",
   "execution_count": 125,
   "metadata": {},
   "outputs": [
    {
     "data": {
      "text/plain": [
       "array([ 0.66366366,  0.8048048 ,  0.71071071, ...,  0.62062062,\n",
       "        0.68368368,  0.4034034 ])"
      ]
     },
     "execution_count": 125,
     "metadata": {},
     "output_type": "execute_result"
    }
   ],
   "source": [
    "samples_15_w_8"
   ]
  },
  {
   "cell_type": "markdown",
   "metadata": {},
   "source": [
    "## 3M5.\n",
    "\n",
    "Start over at 3M1, but now use a prior that is zero below $p=0.5$ and a constant above $p=0.5$. This corresponds to prior information that a majority of the Earth's surface is water. Repeat each problem above and compare the inferences. What difference does the better prior make? If it helps, compute inferences (using both priors) to the true value $p=0.7$."
   ]
  },
  {
   "cell_type": "code",
   "execution_count": 151,
   "metadata": {},
   "outputs": [
    {
     "data": {
      "text/plain": [
       "100"
      ]
     },
     "execution_count": 151,
     "metadata": {},
     "output_type": "execute_result"
    }
   ],
   "source": [
    "len((np.linspace(0,1, 100) >50).astype(float))"
   ]
  },
  {
   "cell_type": "code",
   "execution_count": 155,
   "metadata": {},
   "outputs": [
    {
     "name": "stderr",
     "output_type": "stream",
     "text": [
      "/Users/eddericugaddan/anaconda3/envs/pymc/lib/python3.6/site-packages/ipykernel_launcher.py:7: FutureWarning: elementwise comparison failed; returning scalar instead, but in the future will perform elementwise comparison\n",
      "  import sys\n"
     ]
    },
    {
     "data": {
      "image/png": "[encoded data removed]",
      "text/plain": [
       "<matplotlib.figure.Figure at 0x1143eb898>"
      ]
     },
     "metadata": {},
     "output_type": "display_data"
    }
   ],
   "source": [
    "w_8_n_15_prior_half_p_grid, w_8_n_15_prior_half_posterior  = grid_approx_plot(\n",
    "    points=100,\n",
    "    w=8,\n",
    "    n=15,\n",
    "    prior=(np.linspace(0,100, 100) > 50).astype(float)\n",
    ")"
   ]
  },
  {
   "cell_type": "code",
   "execution_count": 163,
   "metadata": {},
   "outputs": [
    {
     "data": {
      "text/plain": [
       "(0.0012885561873589618, 0.02010096690508589)"
      ]
     },
     "execution_count": 163,
     "metadata": {},
     "output_type": "execute_result"
    }
   ],
   "source": [
    "# probability that it is 0.7\n",
    "# uninformative prior vs informative prior\n",
    "posterior_n_15_w_8[700], w_8_n_15_prior_half_posterior[70]"
   ]
  },
  {
   "cell_type": "code",
   "execution_count": 162,
   "metadata": {},
   "outputs": [
    {
     "data": {
      "text/plain": [
       "1000"
      ]
     },
     "execution_count": 162,
     "metadata": {},
     "output_type": "execute_result"
    }
   ],
   "source": [
    "len(posterior_n_15_w_8)"
   ]
  },
  {
   "cell_type": "code",
   "execution_count": 165,
   "metadata": {},
   "outputs": [],
   "source": [
    "# Draw 10000 samples from grid approx:\n",
    "\n",
    "w_8_n_15_prior_half_samples = np.random.choice(\n",
    "    w_8_n_15_prior_half_p_grid, \n",
    "    p=w_8_n_15_prior_half_posterior, \n",
    "    size=int(1e4), \n",
    "    replace=True)"
   ]
  },
  {
   "cell_type": "code",
   "execution_count": 168,
   "metadata": {},
   "outputs": [
    {
     "data": {
      "text/plain": [
       "(array([ 0.34034034,  0.72672673]), array([ 0.50505051,  0.71717172]))"
      ]
     },
     "execution_count": 168,
     "metadata": {},
     "output_type": "execute_result"
    }
   ],
   "source": [
    "# Highest posterior density interval is now much narrower, and closer to the true value,\n",
    "# compared to the uninformative prior\n",
    "pm.hpd(samples_15_w_8, alpha=1.0-0.9), pm.hpd(w_8_n_15_prior_half_samples, alpha=0.1)"
   ]
  },
  {
   "cell_type": "code",
   "execution_count": 204,
   "metadata": {
    "scrolled": true
   },
   "outputs": [
    {
     "data": {
      "image/png": "[encoded data removed]",
      "text/plain": [
       "<matplotlib.figure.Figure at 0x114a54f98>"
      ]
     },
     "metadata": {},
     "output_type": "display_data"
    }
   ],
   "source": [
    "# Posterior predictive check\n",
    "dummy_uniform_prior_n_15 = dummy_values(n=15, p=samples_15_w_8, extra_title='Uniform Prior')\n",
    "\n",
    "# Posterior predictive check\n",
    "dummy_half_prior_n_15 = dummy_values(n=15, p=w_8_n_15_prior_half_samples, extra_title='Half Prior')"
   ]
  },
  {
   "cell_type": "code",
   "execution_count": 200,
   "metadata": {},
   "outputs": [
    {
     "data": {
      "text/plain": [
       "(0.1449, 0.15379999999999999)"
      ]
     },
     "execution_count": 200,
     "metadata": {},
     "output_type": "execute_result"
    }
   ],
   "source": [
    "# The \"true\" value is now more likely with the informative prior\n",
    "(dummy_uniform_prior == 8).mean(), (dummy_half_prior == 8).mean()"
   ]
  },
  {
   "cell_type": "code",
   "execution_count": 211,
   "metadata": {
    "scrolled": true
   },
   "outputs": [
    {
     "data": {
      "image/png": "[encoded data removed]",
      "text/plain": [
       "<matplotlib.figure.Figure at 0x115b39eb8>"
      ]
     },
     "metadata": {},
     "output_type": "display_data"
    }
   ],
   "source": [
    "# Posterior predictive check\n",
    "dummy_uniform_prior_n_9 = dummy_values(\n",
    "    n=9, \n",
    "    p=samples_15_w_8, \n",
    "    extra_title='Uniform Prior',\n",
    "    max_y=3000)\n",
    "\n"
   ]
  },
  {
   "cell_type": "code",
   "execution_count": 212,
   "metadata": {},
   "outputs": [
    {
     "data": {
      "image/png": "[encoded data removed]",
      "text/plain": [
       "<matplotlib.figure.Figure at 0x1145e9c50>"
      ]
     },
     "metadata": {},
     "output_type": "display_data"
    }
   ],
   "source": [
    "# Posterior predictive check\n",
    "dummy_half_prior_n_9 = dummy_values(\n",
    "    n=9, \n",
    "    p=w_8_n_15_prior_half_samples, \n",
    "    extra_title='Half Prior',\n",
    "    max_y=3000\n",
    ")"
   ]
  },
  {
   "cell_type": "code",
   "execution_count": 205,
   "metadata": {},
   "outputs": [
    {
     "data": {
      "text/plain": [
       "(0.18709999999999999, 0.23350000000000001)"
      ]
     },
     "execution_count": 205,
     "metadata": {},
     "output_type": "execute_result"
    }
   ],
   "source": [
    "# 6/9 is a few percentage points more likely using the half prior\n",
    "(dummy_uniform_prior_n_9 == 6).mean(), (dummy_half_prior_n_9 == 6).mean()"
   ]
  },
  {
   "cell_type": "code",
   "execution_count": 213,
   "metadata": {},
   "outputs": [
    {
     "data": {
      "text/plain": [
       "47696"
      ]
     },
     "execution_count": 213,
     "metadata": {},
     "output_type": "execute_result"
    }
   ],
   "source": [
    "dummy_uniform_prior_n_9.sum()"
   ]
  },
  {
   "cell_type": "code",
   "execution_count": 214,
   "metadata": {},
   "outputs": [
    {
     "data": {
      "text/plain": [
       "54668"
      ]
     },
     "execution_count": 214,
     "metadata": {},
     "output_type": "execute_result"
    }
   ],
   "source": [
    "dummy_half_prior_n_9.sum()"
   ]
  },
  {
   "cell_type": "code",
   "execution_count": 215,
   "metadata": {
    "collapsed": true
   },
   "outputs": [],
   "source": [
    "# 0 is female\n",
    "# 1 is male\n",
    "\n",
    "birth1 = np.array([1,0,0,0,1,1,0,1,0,1,0,0,1,1,0,1,1,0,0,0,1,0,0,0,1,0, 0,0,0,1,1,1,0,1,0,1,1,1,0,1,0,1,1,0,1,0,0,1,1,0,1,0,0,0,0,0,0,0, 1,1,0,1,0,0,1,0,0,0,1,0,0,1,1,1,1,0,1,0,1,1,1,1,1,0,0,1,0,1,1,0,1,0,1,1,1,0,1,1,1,1])\n",
    "birth2 = np.array([0,1,0,1,0,1,1,1,0,0,1,1,1,1,1,0,0,1,1,1,0,0,1,1,1,0,\n",
    "1,1,1,0,1,1,1,0,1,0,0,1,1,1,1,0,0,1,0,1,1,1,1,1,1,1,1,1,1,1,1,1,\n",
    "1,1,1,0,1,1,0,1,1,0,1,1,1,0,0,0,0,0,0,1,0,0,0,1,1,0,0,1,0,0,1,1,\n",
    "0,0,0,1,1,1,0,0,0,0])"
   ]
  },
  {
   "cell_type": "code",
   "execution_count": 217,
   "metadata": {},
   "outputs": [],
   "source": [
    "assert len(birth1) == len(birth2), \"Birth1 length should be the same as Birth2 length\""
   ]
  },
  {
   "cell_type": "markdown",
   "metadata": {},
   "source": [
    "## 3H1.\n",
    "\n",
    "Using grid approximation, compute the posterior distribution for the probability of a birth being a boy. Assume a uniform prior probability. Which parameter maximizes the posterior probability?"
   ]
  },
  {
   "cell_type": "code",
   "execution_count": 219,
   "metadata": {},
   "outputs": [
    {
     "data": {
      "text/plain": [
       "111"
      ]
     },
     "execution_count": 219,
     "metadata": {},
     "output_type": "execute_result"
    }
   ],
   "source": [
    "birth1.sum() + birth2.sum()"
   ]
  },
  {
   "cell_type": "code",
   "execution_count": 220,
   "metadata": {},
   "outputs": [
    {
     "data": {
      "text/plain": [
       "200"
      ]
     },
     "execution_count": 220,
     "metadata": {},
     "output_type": "execute_result"
    }
   ],
   "source": [
    "len(birth1) + len(birth2)"
   ]
  },
  {
   "cell_type": "code",
   "execution_count": 272,
   "metadata": {
    "scrolled": true
   },
   "outputs": [
    {
     "data": {
      "text/plain": [
       "51"
      ]
     },
     "execution_count": 272,
     "metadata": {},
     "output_type": "execute_result"
    }
   ],
   "source": [
    "birth1.sum()"
   ]
  },
  {
   "cell_type": "code",
   "execution_count": 273,
   "metadata": {
    "scrolled": true
   },
   "outputs": [
    {
     "data": {
      "text/plain": [
       "60"
      ]
     },
     "execution_count": 273,
     "metadata": {},
     "output_type": "execute_result"
    }
   ],
   "source": [
    "birth2.sum()"
   ]
  },
  {
   "cell_type": "code",
   "execution_count": 223,
   "metadata": {},
   "outputs": [
    {
     "name": "stderr",
     "output_type": "stream",
     "text": [
      "/Users/eddericugaddan/anaconda3/envs/pymc/lib/python3.6/site-packages/ipykernel_launcher.py:7: FutureWarning: elementwise comparison failed; returning scalar instead, but in the future will perform elementwise comparison\n",
      "  import sys\n"
     ]
    }
   ],
   "source": [
    "p_grid_births, posterior_coin_births = posterior_grid_approx(\n",
    "    grid_points=100,\n",
    "    success=111,\n",
    "    tosses=200,\n",
    "    prior=np.repeat(1.0, 100)\n",
    ")"
   ]
  },
  {
   "cell_type": "code",
   "execution_count": 224,
   "metadata": {},
   "outputs": [
    {
     "data": {
      "text/plain": [
       "0.11508624499848243"
      ]
     },
     "execution_count": 224,
     "metadata": {},
     "output_type": "execute_result"
    }
   ],
   "source": [
    "posterior_coin_birthsmax(posterior_coin_births)"
   ]
  },
  {
   "cell_type": "code",
   "execution_count": 228,
   "metadata": {},
   "outputs": [
    {
     "data": {
      "text/plain": [
       "0.11508624499848243"
      ]
     },
     "execution_count": 228,
     "metadata": {},
     "output_type": "execute_result"
    }
   ],
   "source": [
    "max(posterior_coin_births)"
   ]
  },
  {
   "cell_type": "code",
   "execution_count": 229,
   "metadata": {},
   "outputs": [
    {
     "data": {
      "text/plain": [
       "array([ 0.11508624])"
      ]
     },
     "execution_count": 229,
     "metadata": {},
     "output_type": "execute_result"
    }
   ],
   "source": [
    "posterior_coin_births[posterior_coin_births == max(posterior_coin_births)]"
   ]
  },
  {
   "cell_type": "code",
   "execution_count": 243,
   "metadata": {},
   "outputs": [
    {
     "data": {
      "text/plain": [
       "0.55555555555555558"
      ]
     },
     "execution_count": 243,
     "metadata": {},
     "output_type": "execute_result"
    }
   ],
   "source": [
    "# value of boy that best maximizes the posterior distribution\n",
    "ind, = np.where(posterior_coin_births == max(posterior_coin_births))\n",
    "p_grid_births[ind[0]]"
   ]
  },
  {
   "cell_type": "code",
   "execution_count": 242,
   "metadata": {},
   "outputs": [
    {
     "name": "stderr",
     "output_type": "stream",
     "text": [
      "/Users/eddericugaddan/anaconda3/envs/pymc/lib/python3.6/site-packages/ipykernel_launcher.py:7: FutureWarning: elementwise comparison failed; returning scalar instead, but in the future will perform elementwise comparison\n",
      "  import sys\n"
     ]
    },
    {
     "data": {
      "text/plain": [
       "(array([ 0.        ,  0.01010101,  0.02020202,  0.03030303,  0.04040404,\n",
       "         0.05050505,  0.06060606,  0.07070707,  0.08080808,  0.09090909,\n",
       "         0.1010101 ,  0.11111111,  0.12121212,  0.13131313,  0.14141414,\n",
       "         0.15151515,  0.16161616,  0.17171717,  0.18181818,  0.19191919,\n",
       "         0.2020202 ,  0.21212121,  0.22222222,  0.23232323,  0.24242424,\n",
       "         0.25252525,  0.26262626,  0.27272727,  0.28282828,  0.29292929,\n",
       "         0.3030303 ,  0.31313131,  0.32323232,  0.33333333,  0.34343434,\n",
       "         0.35353535,  0.36363636,  0.37373737,  0.38383838,  0.39393939,\n",
       "         0.4040404 ,  0.41414141,  0.42424242,  0.43434343,  0.44444444,\n",
       "         0.45454545,  0.46464646,  0.47474747,  0.48484848,  0.49494949,\n",
       "         0.50505051,  0.51515152,  0.52525253,  0.53535354,  0.54545455,\n",
       "         0.55555556,  0.56565657,  0.57575758,  0.58585859,  0.5959596 ,\n",
       "         0.60606061,  0.61616162,  0.62626263,  0.63636364,  0.64646465,\n",
       "         0.65656566,  0.66666667,  0.67676768,  0.68686869,  0.6969697 ,\n",
       "         0.70707071,  0.71717172,  0.72727273,  0.73737374,  0.74747475,\n",
       "         0.75757576,  0.76767677,  0.77777778,  0.78787879,  0.7979798 ,\n",
       "         0.80808081,  0.81818182,  0.82828283,  0.83838384,  0.84848485,\n",
       "         0.85858586,  0.86868687,  0.87878788,  0.88888889,  0.8989899 ,\n",
       "         0.90909091,  0.91919192,  0.92929293,  0.93939394,  0.94949495,\n",
       "         0.95959596,  0.96969697,  0.97979798,  0.98989899,  1.        ]),\n",
       " array([  0.00000000e+000,   6.80138588e-164,   7.08745880e-131,\n",
       "          9.91004653e-112,   2.88095575e-098,   6.41986848e-088,\n",
       "          1.52492292e-079,   1.57208402e-072,   1.62610712e-066,\n",
       "          2.89720060e-061,   1.28584100e-056,   1.84936465e-052,\n",
       "          1.04666686e-048,   2.70116396e-045,   3.56428997e-042,\n",
       "          2.63307296e-039,   1.17150724e-036,   3.33226717e-034,\n",
       "          6.36636341e-032,   8.51403100e-030,   8.25310409e-028,\n",
       "          5.97362608e-026,   3.31183576e-024,   1.43772621e-022,\n",
       "          4.98169289e-021,   1.40100827e-019,   3.24528509e-018,\n",
       "          6.27258685e-017,   1.02331937e-015,   1.42357387e-014,\n",
       "          1.70413905e-013,   1.76977447e-012,   1.60613377e-011,\n",
       "          1.28213651e-010,   9.05576642e-010,   5.68914872e-009,\n",
       "          3.19420780e-008,   1.60963874e-007,   7.30821339e-007,\n",
       "          2.99991772e-006,   1.11677261e-005,   3.78073469e-005,\n",
       "          1.16683667e-004,   3.29010420e-004,   8.49186603e-004,\n",
       "          2.00960329e-003,   4.36665007e-003,   8.72240993e-003,\n",
       "          1.60324429e-002,   2.71376320e-002,   4.23251283e-002,\n",
       "          6.08466052e-002,   8.06412366e-002,   9.85247234e-002,\n",
       "          1.10942448e-001,   1.15086245e-001,   1.09910763e-001,\n",
       "          9.65544967e-002,   7.79376331e-002,   5.77283573e-002,\n",
       "          3.91755856e-002,   2.43124354e-002,   1.37691666e-002,\n",
       "          7.09905003e-003,   3.32284236e-003,   1.40761175e-003,\n",
       "          5.37767031e-004,   1.84555864e-004,   5.66443687e-005,\n",
       "          1.54709656e-005,   3.73921927e-006,   7.94727381e-007,\n",
       "          1.47488715e-007,   2.37105770e-008,   3.27233940e-009,\n",
       "          3.83775661e-010,   3.78061826e-011,   3.08720711e-012,\n",
       "          2.05823429e-013,   1.10091408e-014,   4.62951739e-016,\n",
       "          1.49474369e-017,   3.60386319e-019,   6.27803004e-021,\n",
       "          7.59625417e-023,   6.08656983e-025,   3.04623303e-027,\n",
       "          8.85614295e-030,   1.36459026e-032,   9.90301454e-036,\n",
       "          2.89720060e-039,   2.76745182e-043,   6.42171572e-048,\n",
       "          2.34717382e-053,   6.90237920e-060,   5.29829450e-068,\n",
       "          1.28639759e-078,   8.64587190e-094,   4.36084932e-120,\n",
       "          0.00000000e+000]))"
      ]
     },
     "execution_count": 242,
     "metadata": {},
     "output_type": "execute_result"
    },
    {
     "data": {
      "image/png": "[encoded data removed]",
      "text/plain": [
       "<matplotlib.figure.Figure at 0x115a71a20>"
      ]
     },
     "metadata": {},
     "output_type": "display_data"
    }
   ],
   "source": [
    "grid_approx_plot(\n",
    "    points=100,\n",
    "    w=111,\n",
    "    n=200,\n",
    "    prior=np.repeat(1.0, 100),\n",
    "    x_label='probability of boy'\n",
    ")"
   ]
  },
  {
   "cell_type": "markdown",
   "metadata": {},
   "source": [
    "## 3H2.\n",
    "\n",
    "Using the `sample` function, draw 10,000 random parameter values from the posterior distribution you calculated above. Use these samples to estimate the 50%, 89%, 97% highest probability density intervals."
   ]
  },
  {
   "cell_type": "code",
   "execution_count": 244,
   "metadata": {},
   "outputs": [
    {
     "data": {
      "text/plain": [
       "array([ 0.48484848,  0.56565657,  0.52525253, ...,  0.57575758,\n",
       "        0.56565657,  0.57575758])"
      ]
     },
     "execution_count": 244,
     "metadata": {},
     "output_type": "execute_result"
    }
   ],
   "source": [
    "births_samples = np.random.choice(p_grid_births, p=posterior_coin_births, size=int(1e4))\n",
    "births_samples"
   ]
  },
  {
   "cell_type": "code",
   "execution_count": 249,
   "metadata": {},
   "outputs": [
    {
     "name": "stdout",
     "output_type": "stream",
     "text": [
      "[ 0.54545455  0.58585859]\n",
      "[ 0.54545455  0.54545455]\n",
      "[ 0.50505051  0.50505051]\n"
     ]
    }
   ],
   "source": [
    "print(pm.hpd(births_samples, alpha=0.5))\n",
    "print(pm.hpd(births_samples, alpha=0.89))\n",
    "print(pm.hpd(births_samples, alpha=0.97))"
   ]
  },
  {
   "cell_type": "markdown",
   "metadata": {},
   "source": [
    "## 3H3.\n",
    "\n",
    "Use `rbinom` to simulate 10,000 replicates of 200 births. You should end up with 10,000 numbers, each one a count of boys out of 200 births. Compare the distribution of predicted numbers of boys to the actual count in the data (111 boys out of 200 births). There are many good ways to visualize the simulations, but the `dens` command (part of the `rethinking` package) is probably the easiest way in this case. Does it look like the model fits the data well? That is, does the distribution of predictions include the actual observation as a central, likely outcome?"
   ]
  },
  {
   "cell_type": "code",
   "execution_count": 309,
   "metadata": {},
   "outputs": [
    {
     "data": {
      "image/png": "[encoded data removed]",
      "text/plain": [
       "<matplotlib.figure.Figure at 0x1146373c8>"
      ]
     },
     "metadata": {},
     "output_type": "display_data"
    }
   ],
   "source": [
    "# 111 seems like it's the median of the distribution\n",
    "dummy_births_200 = dummy_values(\n",
    "    n=200, \n",
    "    p=births_samples, \n",
    "    extra_title='First and Second Births',\n",
    "    max_y=500,\n",
    "    bins=100\n",
    ")"
   ]
  },
  {
   "cell_type": "code",
   "execution_count": 270,
   "metadata": {},
   "outputs": [
    {
     "data": {
      "text/plain": [
       "111.0273"
      ]
     },
     "execution_count": 270,
     "metadata": {},
     "output_type": "execute_result"
    }
   ],
   "source": [
    "dummy_births.mean()"
   ]
  },
  {
   "cell_type": "markdown",
   "metadata": {},
   "source": [
    "## 3H4.\n",
    "\n",
    "Now compare 10,000 counts of boys from 100 simulated first borns only to the number of boys in the first births, `birth1`. How does the model look in this light?"
   ]
  },
  {
   "cell_type": "code",
   "execution_count": 276,
   "metadata": {},
   "outputs": [
    {
     "name": "stderr",
     "output_type": "stream",
     "text": [
      "/Users/eddericugaddan/anaconda3/envs/pymc/lib/python3.6/site-packages/ipykernel_launcher.py:7: FutureWarning: elementwise comparison failed; returning scalar instead, but in the future will perform elementwise comparison\n",
      "  import sys\n"
     ]
    }
   ],
   "source": [
    "p_grid_first_births, posterior_first_births = posterior_grid_approx(\n",
    "    grid_points=100,\n",
    "    success=sum(birth1),\n",
    "    tosses=len(birth1),\n",
    "    prior=np.repeat(1.0, 100)\n",
    ")"
   ]
  },
  {
   "cell_type": "code",
   "execution_count": 314,
   "metadata": {},
   "outputs": [
    {
     "data": {
      "image/png": "[encoded data removed]",
      "text/plain": [
       "<matplotlib.figure.Figure at 0x1159a6390>"
      ]
     },
     "metadata": {},
     "output_type": "display_data"
    }
   ],
   "source": [
    "first_births_samples = np.random.choice(\n",
    "    p_grid_first_births, \n",
    "    p=posterior_first_births,\n",
    "    size=int(1e4)\n",
    ")\n",
    "\n",
    "# 111 seems like it's the median of the distribution\n",
    "dummy_births_100 = dummy_values(\n",
    "    n=100, \n",
    "    p=births_samples, \n",
    "    extra_title='First and Second Births',\n",
    "    max_y=700,\n",
    "    bins=100\n",
    ")\n"
   ]
  },
  {
   "cell_type": "code",
   "execution_count": 315,
   "metadata": {},
   "outputs": [
    {
     "data": {
      "image/png": "[encoded data removed]",
      "text/plain": [
       "<matplotlib.figure.Figure at 0x115b61048>"
      ]
     },
     "metadata": {},
     "output_type": "display_data"
    }
   ],
   "source": [
    "\n",
    "dummy_first_births = dummy_values(\n",
    "    n=100, \n",
    "    p=first_births_samples, \n",
    "    extra_title='First Births Only',\n",
    "    max_y=700,\n",
    "    bins=100\n",
    ")"
   ]
  },
  {
   "cell_type": "code",
   "execution_count": 288,
   "metadata": {},
   "outputs": [],
   "source": [
    "def print_stats(samples='', title='', alpha=0.5):\n",
    "    lower_bound, upper_bound = pm.hpd(samples, alpha)\n",
    "    print('{}, hpd: [{},{}], diff: {}, mean: {}'.format(\n",
    "        title,\n",
    "        lower_bound,\n",
    "        upper_bound,\n",
    "        upper_bound-lower_bound,\n",
    "        samples.mean()\n",
    "   ))"
   ]
  },
  {
   "cell_type": "code",
   "execution_count": 316,
   "metadata": {},
   "outputs": [
    {
     "name": "stdout",
     "output_type": "stream",
     "text": [
      "first births, hpd: [44,53], diff: 9, mean: 50.8809\n",
      "first and second births, hpd: [49,57], diff: 8, mean: 55.4863\n"
     ]
    }
   ],
   "source": [
    "# first births seem to favor boy and girl equally\n",
    "# second births have a higher propensity for boys.\n",
    "\n",
    "print_stats(samples=dummy_first_births, title='first births')\n",
    "print_stats(samples=dummy_births_100, title='first and second births')\n"
   ]
  },
  {
   "cell_type": "markdown",
   "metadata": {},
   "source": [
    "## 3H5.\n",
    "\n",
    "The model assumes the sex of first and second births are independent. To check this assumption, focus now on second births that followed female first borns. Compare 10,000 simulated counts of boys to only those second births that followed girls. To do this correctly, you need to count the number of first borns who were girls and simulate that many births, 10,000 times. Compare counts of boys in your simulations to the actual observed count of boys following girls. How does the model look in this light? Any guesses what is going on in these data?"
   ]
  },
  {
   "cell_type": "code",
   "execution_count": 292,
   "metadata": {},
   "outputs": [
    {
     "data": {
      "text/plain": [
       "array([1, 0, 0, 0, 1, 1, 0, 1, 0, 1, 0, 0, 1, 1, 0, 1, 1, 0, 0, 0, 1, 0, 0,\n",
       "       0, 1, 0, 0, 0, 0, 1, 1, 1, 0, 1, 0, 1, 1, 1, 0, 1, 0, 1, 1, 0, 1, 0,\n",
       "       0, 1, 1, 0, 1, 0, 0, 0, 0, 0, 0, 0, 1, 1, 0, 1, 0, 0, 1, 0, 0, 0, 1,\n",
       "       0, 0, 1, 1, 1, 1, 0, 1, 0, 1, 1, 1, 1, 1, 0, 0, 1, 0, 1, 1, 0, 1, 0,\n",
       "       1, 1, 1, 0, 1, 1, 1, 1])"
      ]
     },
     "execution_count": 292,
     "metadata": {},
     "output_type": "execute_result"
    }
   ],
   "source": [
    "birth1"
   ]
  },
  {
   "cell_type": "code",
   "execution_count": 293,
   "metadata": {},
   "outputs": [
    {
     "data": {
      "text/plain": [
       "array([0, 1, 0, 1, 0, 1, 1, 1, 0, 0, 1, 1, 1, 1, 1, 0, 0, 1, 1, 1, 0, 0, 1,\n",
       "       1, 1, 0, 1, 1, 1, 0, 1, 1, 1, 0, 1, 0, 0, 1, 1, 1, 1, 0, 0, 1, 0, 1,\n",
       "       1, 1, 1, 1, 1, 1, 1, 1, 1, 1, 1, 1, 1, 1, 1, 0, 1, 1, 0, 1, 1, 0, 1,\n",
       "       1, 1, 0, 0, 0, 0, 0, 0, 1, 0, 0, 0, 1, 1, 0, 0, 1, 0, 0, 1, 1, 0, 0,\n",
       "       0, 1, 1, 1, 0, 0, 0, 0])"
      ]
     },
     "execution_count": 293,
     "metadata": {},
     "output_type": "execute_result"
    }
   ],
   "source": [
    "birth2"
   ]
  },
  {
   "cell_type": "code",
   "execution_count": 301,
   "metadata": {},
   "outputs": [
    {
     "data": {
      "text/plain": [
       "49"
      ]
     },
     "execution_count": 301,
     "metadata": {},
     "output_type": "execute_result"
    }
   ],
   "source": [
    "female_first_indices, = np.where(birth1 == 0)\n",
    "len(female_first_indices)"
   ]
  },
  {
   "cell_type": "code",
   "execution_count": 303,
   "metadata": {},
   "outputs": [
    {
     "data": {
      "text/plain": [
       "39"
      ]
     },
     "execution_count": 303,
     "metadata": {},
     "output_type": "execute_result"
    }
   ],
   "source": [
    "# given that the first birth was female, how many of the second births were male?\n",
    "birth2[female_first_indices].sum()"
   ]
  },
  {
   "cell_type": "code",
   "execution_count": 305,
   "metadata": {},
   "outputs": [
    {
     "data": {
      "text/plain": [
       "0.7959183673469388"
      ]
     },
     "execution_count": 305,
     "metadata": {},
     "output_type": "execute_result"
    }
   ],
   "source": [
    "39/49.0"
   ]
  },
  {
   "cell_type": "code",
   "execution_count": 321,
   "metadata": {},
   "outputs": [
    {
     "name": "stderr",
     "output_type": "stream",
     "text": [
      "/Users/eddericugaddan/anaconda3/envs/pymc/lib/python3.6/site-packages/ipykernel_launcher.py:7: FutureWarning: elementwise comparison failed; returning scalar instead, but in the future will perform elementwise comparison\n",
      "  import sys\n"
     ]
    },
    {
     "name": "stdout",
     "output_type": "stream",
     "text": [
      "Prob. boy 2nd birth, given girl 1st birth, hpd: [73,82], diff: 9, mean: 78.3768\n"
     ]
    },
    {
     "data": {
      "image/png": "[encoded data removed]",
      "text/plain": [
       "<matplotlib.figure.Figure at 0x1159fe358>"
      ]
     },
     "metadata": {},
     "output_type": "display_data"
    }
   ],
   "source": [
    "p_grid_boy_2nd_given_girl_1st, posterior_boy_2nd_given_girl_1st = posterior_grid_approx(\n",
    "    grid_points=100,\n",
    "    success=39,\n",
    "    tosses=49,\n",
    "    prior=np.repeat(1.0, 100)\n",
    ")\n",
    "\n",
    "samples_boy_2nd_given_girl_1st = np.random.choice(\n",
    "    p_grid_boy_2nd_given_girl_1st,\n",
    "    p=posterior_boy_2nd_given_girl_1st,\n",
    "    size=int(1e4)\n",
    ")\n",
    "\n",
    "# My guess is that parents are artificially selecting for males when they already have females\n",
    "# as a first kid (i.e. abortion)\n",
    "\n",
    "dummy_boy_2nd_given_girl_1st = dummy_values(\n",
    "    n=100, \n",
    "    p=samples_boy_2nd_given_girl_1st, \n",
    "    extra_title='Probability of boy given first birth is girl',\n",
    "    max_y=700,\n",
    "    bins=100,\n",
    "    xlabel='prob. boy @ 2nd birth, given girl @ first birth'\n",
    ")\n",
    "\n",
    "print_stats(samples=dummy_boy_2nd_given_girl_1st, \n",
    "            title='Prob. boy 2nd birth, given girl 1st birth')"
   ]
  },
  {
   "cell_type": "code",
   "execution_count": null,
   "metadata": {
    "collapsed": true
   },
   "outputs": [],
   "source": []
  }
 ],
 "metadata": {
  "kernelspec": {
   "display_name": "Python 3",
   "language": "python",
   "name": "python3"
  },
  "language_info": {
   "codemirror_mode": {
    "name": "ipython",
    "version": 3
   },
   "file_extension": ".py",
   "mimetype": "text/x-python",
   "name": "python",
   "nbconvert_exporter": "python",
   "pygments_lexer": "ipython3",
   "version": "3.6.0"
  },
  "toc": {
   "colors": {
    "hover_highlight": "#DAA520",
    "navigate_num": "#000000",
    "navigate_text": "#333333",
    "running_highlight": "#FF0000",
    "selected_highlight": "#FFD700",
    "sidebar_border": "#EEEEEE",
    "wrapper_background": "#FFFFFF"
   },
   "moveMenuLeft": true,
   "nav_menu": {
    "height": "4px",
    "width": "254px"
   },
   "navigate_menu": true,
   "number_sections": true,
   "sideBar": true,
   "threshold": "5",
   "toc_cell": true,
   "toc_section_display": "block",
   "toc_window_display": true,
   "widenNotebook": false
  }
 },
 "nbformat": 4,
 "nbformat_minor": 2
}
