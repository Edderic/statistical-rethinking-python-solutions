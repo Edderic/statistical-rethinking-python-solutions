{
 "cells": [
  {
   "cell_type": "markdown",
   "metadata": {
    "toc": "true"
   },
   "source": [
    "# Table of Contents\n",
    " <p><div class=\"lev1 toc-item\"><a href=\"#Chapter-5\" data-toc-modified-id=\"Chapter-5-1\"><span class=\"toc-item-num\">1&nbsp;&nbsp;</span>Chapter 5</a></div><div class=\"lev2 toc-item\"><a href=\"#5E1.\" data-toc-modified-id=\"5E1.-11\"><span class=\"toc-item-num\">1.1&nbsp;&nbsp;</span>5E1.</a></div><div class=\"lev3 toc-item\"><a href=\"#Ans\" data-toc-modified-id=\"Ans-111\"><span class=\"toc-item-num\">1.1.1&nbsp;&nbsp;</span>Ans</a></div><div class=\"lev2 toc-item\"><a href=\"#5E2.\" data-toc-modified-id=\"5E2.-12\"><span class=\"toc-item-num\">1.2&nbsp;&nbsp;</span>5E2.</a></div><div class=\"lev3 toc-item\"><a href=\"#Ans\" data-toc-modified-id=\"Ans-121\"><span class=\"toc-item-num\">1.2.1&nbsp;&nbsp;</span>Ans</a></div><div class=\"lev2 toc-item\"><a href=\"#5E3\" data-toc-modified-id=\"5E3-13\"><span class=\"toc-item-num\">1.3&nbsp;&nbsp;</span>5E3</a></div><div class=\"lev3 toc-item\"><a href=\"#Ans\" data-toc-modified-id=\"Ans-131\"><span class=\"toc-item-num\">1.3.1&nbsp;&nbsp;</span>Ans</a></div><div class=\"lev2 toc-item\"><a href=\"#5E4\" data-toc-modified-id=\"5E4-14\"><span class=\"toc-item-num\">1.4&nbsp;&nbsp;</span>5E4</a></div><div class=\"lev3 toc-item\"><a href=\"#Ans\" data-toc-modified-id=\"Ans-141\"><span class=\"toc-item-num\">1.4.1&nbsp;&nbsp;</span>Ans</a></div><div class=\"lev2 toc-item\"><a href=\"#5M1\" data-toc-modified-id=\"5M1-15\"><span class=\"toc-item-num\">1.5&nbsp;&nbsp;</span>5M1</a></div>"
   ]
  },
  {
   "cell_type": "markdown",
   "metadata": {},
   "source": [
    "# Chapter 5"
   ]
  },
  {
   "cell_type": "markdown",
   "metadata": {},
   "source": [
    "## 5E1. \n",
    "\n",
    "Which of the linear models below are multiple linear regressions?\n",
    "\n",
    "(1) $\\mu_i = \\alpha + \\beta x_i$\n",
    "\n",
    "(2) $\\mu_i = \\beta_x x_i + \\beta_z x_z$\n",
    "\n",
    "(3) $\\mu_i = \\alpha + \\beta(x_i-z_i)$\n",
    "\n",
    "(4) $\\mu_i = \\alpha + \\beta_x x_i + \\beta_z z_i$"
   ]
  },
  {
   "cell_type": "markdown",
   "metadata": {},
   "source": [
    "### Ans\n",
    "\n",
    "(1) is univariate since it's only using one variable $x_i$.\n",
    "\n",
    "(2) is multivariate because it's using $x_i$ and $x_z$.\n",
    "\n",
    "(3) is weird in that it's using two predictor variables $x_i$ and $z_i$ but there's only one beta coefficient. This is probably a case of negative multicollinearity between the two predictor variables (i.e. $x_i$ and $z_i$ are strongly negatively correlated: so if $x_i$ is high, then $z_i$ is low, vice versa). Including $z_i$ after we've included $x_i$ does not give us new information, so even though it's technically using two variables, we're really only estimating one, so I think this could be argued as if it's univariate regression.\n",
    "\n",
    "(4) is definitely a multiple linear regression."
   ]
  },
  {
   "cell_type": "markdown",
   "metadata": {},
   "source": [
    "## 5E2. \n",
    "\n",
    "Write down a multiple regression to evaluate the claim: _Animal diversity is linearly related to latitude, but only after controlling for plant diversity_. You just need to write down the model definition."
   ]
  },
  {
   "cell_type": "markdown",
   "metadata": {},
   "source": [
    "### Ans\n",
    "\n",
    "$$\n",
    "\\begin{equation}\n",
    "\\begin{aligned}\n",
    "a_i &\\sim \\alpha + \\beta_l l_i + \\beta_p p_i + \\beta_{lp} l_i p_i \\\\\n",
    "a_i &\\sim \\alpha + \\beta_p p_i + \\beta_{lp} l_i p_i & \\text{latitude by itself has no effect}\n",
    "\\end{aligned}\n",
    "\\end{equation}\n",
    "$$"
   ]
  },
  {
   "cell_type": "markdown",
   "metadata": {},
   "source": [
    "## 5E3\n",
    "\n",
    "Write down a multiple regression to evaluate the claim: _Neither amount of funding nor size of laboratory is by itself a good predictor of time to PhD degree; but together these variables are both positively associated with time to degree._ Write down the model definition and indicate which side of zero each slope parameter should be on."
   ]
  },
  {
   "cell_type": "markdown",
   "metadata": {},
   "source": [
    "### Ans\n",
    "\n",
    "$$\n",
    "\\begin{equation}\n",
    "\\begin{aligned}\n",
    "    t_i &\\sim \\alpha + \\beta_s s_i + \\beta_f f_i\n",
    "\\end{aligned}\n",
    "\\end{equation}\n",
    "$$\n",
    "\n",
    "Since we think that they are both positively correlated with time to degree when accounting for both, we expect that $\\beta_s$ and $\\beta_f$ are above 0."
   ]
  },
  {
   "cell_type": "markdown",
   "metadata": {},
   "source": [
    "## 5E4\n",
    "\n",
    "Suppose you have a single categorical predictor with 4 levels (unique values), labeled A, B, C, and D. Let $A_i$ be an indicator variable that is 1 where case $i$ is in category $A$. Also suppose $B_i$, $C_i$, and $D_i$ for the other categories. Now which of the following linear models are inferentially equivalent ways to include the categorical variable in a regression? Models are inferentially equivalent when it's possible to compute one posterior distribution from the posterior distribution of another model.\n",
    "\n",
    "(1) $ \\mu_i = \\alpha + \\beta_A A_i + \\beta_B B_i + \\beta_D D_i$\n",
    "\n",
    "(2) $ \\mu_i = \\alpha + \\beta_A A_i + \\beta_B B_i + \\beta_C C_i+ \\beta_D D_i$\n",
    "\n",
    "(3) $ \\mu_i = \\alpha + \\beta_B B_i + \\beta_C C_i+ \\beta_D D_i$\n",
    "\n",
    "(4) $ \\mu_i = \\alpha_A A_i + \\alpha + \\alpha_B B_i + \\alpha_C C_i+ \\alpha_D D $\n",
    "\n",
    "(5) $ \\mu_i = \\alpha_A(1-B_i-C_i-D_i) + \\alpha_B B_i + \\alpha_C C_i + \\alpha_D D_i$\n"
   ]
  },
  {
   "cell_type": "markdown",
   "metadata": {},
   "source": [
    "### Ans\n",
    "\n",
    "(1) $\\alpha$ is the value of $C_i$ when $C_i$ is true. This is good.\n",
    "\n",
    "(2) Adding $\\beta_C C_i$ to (1) makes $\\alpha$ redundant, so this is not inferentially equivalent.\n",
    "\n",
    "(3) $\\alpha$ is the value of $\\mu_i$ when $A_i$ is true. This is inferentially equivalent to (1).\n",
    "\n",
    "(4) is similar to (2), so not inferentially equivalent.\n",
    "\n",
    "(5) no double-counting happens, so this is also inferentially equivalent."
   ]
  },
  {
   "cell_type": "markdown",
   "metadata": {},
   "source": [
    "## 5M1\n",
    "\n",
    "Invent your own example of a spurious correlation. An outcome variable should be correlated with both predictor variables. But when both predictors are entered in the same model, the correlation between the outcome and one of the predictors should mostly vanish (or at least be greatly reduced)."
   ]
  },
  {
   "cell_type": "markdown",
   "metadata": {},
   "source": []
  }
 ],
 "metadata": {
  "kernelspec": {
   "display_name": "Python 3",
   "language": "python",
   "name": "python3"
  },
  "language_info": {
   "codemirror_mode": {
    "name": "ipython",
    "version": 3
   },
   "file_extension": ".py",
   "mimetype": "text/x-python",
   "name": "python",
   "nbconvert_exporter": "python",
   "pygments_lexer": "ipython3",
   "version": "3.6.0"
  },
  "toc": {
   "colors": {
    "hover_highlight": "#DAA520",
    "navigate_num": "#000000",
    "navigate_text": "#333333",
    "running_highlight": "#FF0000",
    "selected_highlight": "#FFD700",
    "sidebar_border": "#EEEEEE",
    "wrapper_background": "#FFFFFF"
   },
   "moveMenuLeft": true,
   "nav_menu": {
    "height": "94px",
    "width": "254px"
   },
   "navigate_menu": true,
   "number_sections": true,
   "sideBar": true,
   "threshold": "5",
   "toc_cell": true,
   "toc_position": {
    "height": "589px",
    "left": "0px",
    "right": "546px",
    "top": "128.1px",
    "width": "100px"
   },
   "toc_section_display": "none",
   "toc_window_display": true,
   "widenNotebook": false
  }
 },
 "nbformat": 4,
 "nbformat_minor": 2
}
