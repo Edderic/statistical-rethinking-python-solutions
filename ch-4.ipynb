{
 "cells": [
  {
   "cell_type": "markdown",
   "metadata": {
    "toc": "true"
   },
   "source": [
    "# Table of Contents\n",
    " <p><div class=\"lev1 toc-item\"><a href=\"#Easy\" data-toc-modified-id=\"Easy-1\"><span class=\"toc-item-num\">1&nbsp;&nbsp;</span>Easy</a></div><div class=\"lev2 toc-item\"><a href=\"#4E1\" data-toc-modified-id=\"4E1-11\"><span class=\"toc-item-num\">1.1&nbsp;&nbsp;</span>4E1</a></div><div class=\"lev3 toc-item\"><a href=\"#Ans\" data-toc-modified-id=\"Ans-111\"><span class=\"toc-item-num\">1.1.1&nbsp;&nbsp;</span>Ans</a></div><div class=\"lev2 toc-item\"><a href=\"#4E2\" data-toc-modified-id=\"4E2-12\"><span class=\"toc-item-num\">1.2&nbsp;&nbsp;</span>4E2</a></div><div class=\"lev3 toc-item\"><a href=\"#Ans\" data-toc-modified-id=\"Ans-121\"><span class=\"toc-item-num\">1.2.1&nbsp;&nbsp;</span>Ans</a></div><div class=\"lev2 toc-item\"><a href=\"#4E3\" data-toc-modified-id=\"4E3-13\"><span class=\"toc-item-num\">1.3&nbsp;&nbsp;</span>4E3</a></div><div class=\"lev3 toc-item\"><a href=\"#Ans\" data-toc-modified-id=\"Ans-131\"><span class=\"toc-item-num\">1.3.1&nbsp;&nbsp;</span>Ans</a></div><div class=\"lev2 toc-item\"><a href=\"#4E4\" data-toc-modified-id=\"4E4-14\"><span class=\"toc-item-num\">1.4&nbsp;&nbsp;</span>4E4</a></div><div class=\"lev3 toc-item\"><a href=\"#Ans\" data-toc-modified-id=\"Ans-141\"><span class=\"toc-item-num\">1.4.1&nbsp;&nbsp;</span>Ans</a></div><div class=\"lev2 toc-item\"><a href=\"#4E5\" data-toc-modified-id=\"4E5-15\"><span class=\"toc-item-num\">1.5&nbsp;&nbsp;</span>4E5</a></div><div class=\"lev3 toc-item\"><a href=\"#Ans\" data-toc-modified-id=\"Ans-151\"><span class=\"toc-item-num\">1.5.1&nbsp;&nbsp;</span>Ans</a></div><div class=\"lev1 toc-item\"><a href=\"#Medium\" data-toc-modified-id=\"Medium-2\"><span class=\"toc-item-num\">2&nbsp;&nbsp;</span>Medium</a></div><div class=\"lev2 toc-item\"><a href=\"#4M1\" data-toc-modified-id=\"4M1-21\"><span class=\"toc-item-num\">2.1&nbsp;&nbsp;</span>4M1</a></div><div class=\"lev2 toc-item\"><a href=\"#4M2\" data-toc-modified-id=\"4M2-22\"><span class=\"toc-item-num\">2.2&nbsp;&nbsp;</span>4M2</a></div><div class=\"lev2 toc-item\"><a href=\"#4M3\" data-toc-modified-id=\"4M3-23\"><span class=\"toc-item-num\">2.3&nbsp;&nbsp;</span>4M3</a></div><div class=\"lev3 toc-item\"><a href=\"#Ans\" data-toc-modified-id=\"Ans-231\"><span class=\"toc-item-num\">2.3.1&nbsp;&nbsp;</span>Ans</a></div><div class=\"lev2 toc-item\"><a href=\"#4M4\" data-toc-modified-id=\"4M4-24\"><span class=\"toc-item-num\">2.4&nbsp;&nbsp;</span>4M4</a></div><div class=\"lev3 toc-item\"><a href=\"#Ans\" data-toc-modified-id=\"Ans-241\"><span class=\"toc-item-num\">2.4.1&nbsp;&nbsp;</span>Ans</a></div><div class=\"lev2 toc-item\"><a href=\"#4M5\" data-toc-modified-id=\"4M5-25\"><span class=\"toc-item-num\">2.5&nbsp;&nbsp;</span>4M5</a></div><div class=\"lev3 toc-item\"><a href=\"#Ans\" data-toc-modified-id=\"Ans-251\"><span class=\"toc-item-num\">2.5.1&nbsp;&nbsp;</span>Ans</a></div><div class=\"lev2 toc-item\"><a href=\"#4M6\" data-toc-modified-id=\"4M6-26\"><span class=\"toc-item-num\">2.6&nbsp;&nbsp;</span>4M6</a></div><div class=\"lev3 toc-item\"><a href=\"#Ans\" data-toc-modified-id=\"Ans-261\"><span class=\"toc-item-num\">2.6.1&nbsp;&nbsp;</span>Ans</a></div><div class=\"lev1 toc-item\"><a href=\"#Hard\" data-toc-modified-id=\"Hard-3\"><span class=\"toc-item-num\">3&nbsp;&nbsp;</span>Hard</a></div><div class=\"lev2 toc-item\"><a href=\"#4H1\" data-toc-modified-id=\"4H1-31\"><span class=\"toc-item-num\">3.1&nbsp;&nbsp;</span>4H1</a></div><div class=\"lev3 toc-item\"><a href=\"#Ans\" data-toc-modified-id=\"Ans-311\"><span class=\"toc-item-num\">3.1.1&nbsp;&nbsp;</span>Ans</a></div><div class=\"lev2 toc-item\"><a href=\"#4H2\" data-toc-modified-id=\"4H2-32\"><span class=\"toc-item-num\">3.2&nbsp;&nbsp;</span>4H2</a></div><div class=\"lev3 toc-item\"><a href=\"#(a)\" data-toc-modified-id=\"(a)-321\"><span class=\"toc-item-num\">3.2.1&nbsp;&nbsp;</span>(a)</a></div><div class=\"lev4 toc-item\"><a href=\"#Ans\" data-toc-modified-id=\"Ans-3211\"><span class=\"toc-item-num\">3.2.1.1&nbsp;&nbsp;</span>Ans</a></div><div class=\"lev3 toc-item\"><a href=\"#(b)\" data-toc-modified-id=\"(b)-322\"><span class=\"toc-item-num\">3.2.2&nbsp;&nbsp;</span>(b)</a></div><div class=\"lev3 toc-item\"><a href=\"#(c)\" data-toc-modified-id=\"(c)-323\"><span class=\"toc-item-num\">3.2.3&nbsp;&nbsp;</span>(c)</a></div><div class=\"lev4 toc-item\"><a href=\"#Ans\" data-toc-modified-id=\"Ans-3231\"><span class=\"toc-item-num\">3.2.3.1&nbsp;&nbsp;</span>Ans</a></div><div class=\"lev2 toc-item\"><a href=\"#4H3\" data-toc-modified-id=\"4H3-33\"><span class=\"toc-item-num\">3.3&nbsp;&nbsp;</span>4H3</a></div><div class=\"lev3 toc-item\"><a href=\"#(a)\" data-toc-modified-id=\"(a)-331\"><span class=\"toc-item-num\">3.3.1&nbsp;&nbsp;</span>(a)</a></div><div class=\"lev3 toc-item\"><a href=\"#(b)\" data-toc-modified-id=\"(b)-332\"><span class=\"toc-item-num\">3.3.2&nbsp;&nbsp;</span>(b)</a></div>"
   ]
  },
  {
   "cell_type": "code",
   "execution_count": 246,
   "metadata": {},
   "outputs": [],
   "source": [
    "import matplotlib.pyplot as plt\n",
    "import seaborn as sns; sns.set_palette('colorblind'); sns.set_color_codes()\n",
    "import pandas as pd\n",
    "%matplotlib inline"
   ]
  },
  {
   "cell_type": "markdown",
   "metadata": {},
   "source": [
    "# Easy\n",
    "\n",
    "## 4E1\n",
    "\n",
    "In the model definition below, which line is the likelihood?\n",
    "\n",
    "$\\qquad y_i \\sim \\text{Normal(}\\mu,\\sigma \\text{)}$\n",
    "\n",
    "$\\qquad \\mu \\sim \\text{Normal(0,10)}$\n",
    "\n",
    "$\\qquad \\sigma \\sim \\text{Uniform(0,10)}$"
   ]
  },
  {
   "cell_type": "markdown",
   "metadata": {},
   "source": [
    "### Ans\n",
    "\n",
    "$y_i$ is the likelihood, while $\\mu$ and $\\sigma$ are priors."
   ]
  },
  {
   "cell_type": "markdown",
   "metadata": {},
   "source": [
    "## 4E2\n",
    "\n",
    "In the model definition just above, how many parameters are in the posterior distribution?"
   ]
  },
  {
   "cell_type": "markdown",
   "metadata": {},
   "source": [
    "### Ans\n",
    "\n",
    "There are two parameters in the posterior distribution $P(\\mu, \\sigma | D)$."
   ]
  },
  {
   "cell_type": "markdown",
   "metadata": {},
   "source": [
    "## 4E3\n",
    "\n",
    "Using the model definition just above, write down the appropriate form of Bayes' theorem that includes the proper likelihood and priors."
   ]
  },
  {
   "cell_type": "markdown",
   "metadata": {},
   "source": [
    "### Ans\n",
    "\n",
    "$$\n",
    "\\begin{equation}\n",
    "\\begin{aligned}\n",
    "    P(\\mu, \\sigma | D) &= \\frac{P(D | \\mu, \\sigma)P(\\mu, \\sigma)}{P(D)} \\\\\n",
    "    &= \\frac{P(D | \\mu, \\sigma)P(\\mu)P(\\sigma)}{P(D)} & \\text{independence assumption: $P(\\mu, \\sigma) = P(\\mu) \\cdot P(\\sigma)$}\\\\\n",
    "    &= \\frac{P(D | \\mu, \\sigma)P(\\mu)P(\\sigma)}{\\int_{\\mu} \\int_{\\sigma} P(D | \\mu, \\sigma)P(\\mu)P(\\sigma) d\\sigma d\\mu}\\\\\n",
    "    &= \\frac{\\prod_i \\text{Normal}(y_i \\mid \\mu, \\sigma) \\cdot \\text{Normal}(\\mu \\mid 0,10) \\cdot \\text{Uniform(}\\sigma \\mid 0,10)}{\\int_{\\mu} \\int_{\\sigma} \\prod_i \\text{Normal}(y_i \\mid \\mu, \\sigma) \\cdot \\text{Normal}(\\mu \\mid 0,10) \\cdot \\text{Uniform(}\\sigma \\mid 0,10) \\cdot  d\\sigma d\\mu}\\\\\n",
    "\\end{aligned}\n",
    "\\end{equation}\n",
    "$$"
   ]
  },
  {
   "cell_type": "markdown",
   "metadata": {},
   "source": [
    "## 4E4\n",
    "\n",
    "In the model definition below, which line is the linear model?\n",
    "\n",
    "$\\qquad y_i \\sim \\text{Normal(}\\mu,\\sigma\\text{)}$\n",
    "\n",
    "$\\qquad \\mu_i = \\alpha + \\beta x_i$\n",
    "\n",
    "$\\qquad \\alpha \\sim \\text{Normal(0,10)}$\n",
    "\n",
    "$\\qquad \\beta \\sim \\text{Normal(0,1)}$\n",
    "\n",
    "$\\qquad \\sigma \\sim \\text{Uniform(0,10)}$"
   ]
  },
  {
   "cell_type": "markdown",
   "metadata": {},
   "source": [
    "### Ans\n",
    "\n",
    "$\\qquad \\mu_i = \\alpha + \\beta x_i$ is the linear model."
   ]
  },
  {
   "cell_type": "markdown",
   "metadata": {},
   "source": [
    "## 4E5\n",
    "\n",
    "In the model definition just above, how many parameters are in the posterior distribution?"
   ]
  },
  {
   "cell_type": "markdown",
   "metadata": {},
   "source": [
    "### Ans"
   ]
  },
  {
   "cell_type": "markdown",
   "metadata": {},
   "source": [
    "There are three parameters in the posterior: $\\alpha$, $\\beta$, $\\sigma$."
   ]
  },
  {
   "cell_type": "markdown",
   "metadata": {},
   "source": [
    "# Medium\n",
    "\n",
    "## 4M1\n",
    "\n",
    "For the model definition below, simulate observed heights from the prior (not the posterior).\n",
    "\n",
    "$\\qquad y_i \\sim \\text{Normal(}\\mu,\\sigma \\text{)}$\n",
    "\n",
    "$\\qquad \\mu \\sim \\text{Normal(0,10)}$\n",
    "\n",
    "$\\qquad \\sigma \\sim \\text{Uniform(0,10)}$"
   ]
  },
  {
   "cell_type": "code",
   "execution_count": 1,
   "metadata": {},
   "outputs": [],
   "source": [
    "import numpy as np"
   ]
  },
  {
   "cell_type": "code",
   "execution_count": 25,
   "metadata": {},
   "outputs": [],
   "source": [
    "mu_samples = np.random.normal(0, 10, size=1000)\n",
    "sigma_samples = np.random.uniform(0.0,10.0, size=1000)"
   ]
  },
  {
   "cell_type": "code",
   "execution_count": 26,
   "metadata": {},
   "outputs": [
    {
     "data": {
      "text/plain": [
       "array([  9.01157246e+00,  -4.04810514e+00,   1.25324086e+00,\n",
       "        -7.68881741e+00,   5.48146871e+00,   1.45894773e+01,\n",
       "        -8.77130991e+00,  -2.33907742e+01,  -9.49127847e+00,\n",
       "         9.64742940e+00,  -3.43127361e+00,  -1.30987321e+01,\n",
       "         1.53642003e+00,  -1.76403123e+01,  -1.34314430e+01,\n",
       "        -2.37724750e+01,  -2.98547546e+00,   1.24954272e+01,\n",
       "        -1.51471506e+00,   9.26497294e-01,  -1.13854563e+01,\n",
       "         3.54851391e+00,   5.86138627e+00,  -2.00078482e+00,\n",
       "         8.74509017e+00,   1.17759956e+01,  -6.05083007e+00,\n",
       "         1.60822876e+01,  -7.32980743e+00,   1.03011020e+01,\n",
       "        -1.34513888e+00,   3.21618368e+00,   5.17947355e+00,\n",
       "         6.35904472e-01,  -3.20094849e-01,   7.76640383e+00,\n",
       "        -1.69115184e+01,  -6.59715068e-01,  -6.96102156e+00,\n",
       "         6.02306431e+00,  -3.72999629e+00,  -7.83924355e+00,\n",
       "         5.10561702e+00,  -1.94495275e+00,   2.23777896e+01,\n",
       "        -2.52343200e-02,  -6.41070148e+00,   2.44356249e+01,\n",
       "         1.84929394e+01,   6.66302985e+00,  -4.13320490e+00,\n",
       "        -1.88384500e+00,  -1.93897676e+01,   6.68899611e+00,\n",
       "        -1.63251404e+01,   3.82763826e+00,  -1.20135278e+01,\n",
       "         4.08676617e+00,   9.83286982e+00,  -4.90336165e+00,\n",
       "         3.22371118e+00,   1.09804698e+01,   8.66057650e+00,\n",
       "         7.46895259e+00,   1.41542839e+01,   5.92122585e+00,\n",
       "        -8.60515625e+00,  -8.02735335e+00,   1.13878428e+01,\n",
       "         8.86543346e-01,   5.73039784e+00,   5.85543682e-01,\n",
       "         2.65411825e+01,  -5.19631060e+00,  -1.27063739e+01,\n",
       "         1.46934859e+01,  -3.41718766e+00,  -5.84292128e+00,\n",
       "        -7.16389807e+00,   3.16008440e+01,  -1.12168608e+00,\n",
       "         9.43121975e+00,  -6.37243566e+00,  -1.28510579e+01,\n",
       "        -1.42139713e+01,  -6.44683562e+00,   9.43187176e+00,\n",
       "         8.57878426e+00,  -1.53022914e+00,   3.02707165e+01,\n",
       "         6.04935472e+00,   8.29570134e+00,   9.98700339e+00,\n",
       "         1.34638265e+01,   1.32856508e+00,  -1.42635178e+01,\n",
       "        -2.35844157e+00,   7.24216466e+00,  -1.44535245e+00,\n",
       "        -4.51186911e+00,  -5.63245272e+00,  -1.03622183e+01,\n",
       "        -1.02215675e+01,   5.28658533e+00,   3.06663103e+00,\n",
       "         2.75220281e+01,   1.41249565e+01,  -1.72871333e+00,\n",
       "        -1.02745526e+01,  -5.07543162e+00,  -7.83383353e+00,\n",
       "         8.33588517e+00,   2.81609686e+00,  -1.56229285e+01,\n",
       "         2.03332889e+00,   2.94664630e+00,  -1.08920320e+01,\n",
       "        -4.79714329e+00,   7.08953329e+00,  -1.01103803e+01,\n",
       "         1.03569529e+01,  -1.38283117e+01,   6.47702255e-01,\n",
       "        -1.22591830e+01,   1.66735482e+01,  -1.43835195e+01,\n",
       "         2.21218373e+01,   1.70578905e+01,   6.89154627e+00,\n",
       "         4.31123661e+00,  -4.42413748e+00,   1.10051043e+01,\n",
       "         1.62390856e+00,   6.71405330e+00,  -1.53420257e+00,\n",
       "         1.80062743e+01,   4.45848342e+00,  -1.46009211e+01,\n",
       "         1.37913370e+01,   7.97617983e+00,   1.42634657e+01,\n",
       "         1.97828083e+00,   6.33440888e+00,   9.82947482e+00,\n",
       "        -5.44552839e+00,   1.01670363e+01,  -9.36976422e+00,\n",
       "         1.50098284e+01,  -1.52382236e+01,  -1.40037290e+01,\n",
       "         1.63772887e+01,   5.12964032e+00,  -7.67308925e+00,\n",
       "        -1.29137017e+01,  -9.24667589e+00,   1.76845693e+01,\n",
       "        -1.95957752e+00,   5.55991229e+00,   1.62526088e+01,\n",
       "         5.18187629e+00,  -9.20282050e+00,  -1.53208904e+01,\n",
       "         5.70757350e+00,  -1.94702855e+01,   1.89272770e+00,\n",
       "         7.18548579e+00,   1.76718109e+01,   9.16604835e+00,\n",
       "         1.74158087e+01,  -2.81424138e+00,   6.45568963e-01,\n",
       "         9.90732066e+00,   8.36743880e+00,  -3.77017639e+00,\n",
       "        -8.05115122e+00,   1.50397224e+01,   1.14133023e+01,\n",
       "        -1.05117793e+01,   2.15996743e+01,   8.83548579e-01,\n",
       "         1.24459228e+01,   4.86503276e+00,  -6.49659542e+00,\n",
       "        -1.25465000e+00,  -1.66107285e+00,  -1.40219178e+00,\n",
       "         1.43485708e+01,  -2.59061540e+01,   3.10959237e+00,\n",
       "        -1.63657771e+00,   1.07607378e+01,   8.02207560e+00,\n",
       "         4.77261978e+00,   9.36449455e+00,   6.62358350e+00,\n",
       "         8.99561596e+00,   1.92290857e+01,  -1.86427213e+01,\n",
       "         1.39189533e+01,  -1.25555192e+01,  -4.63959926e+00,\n",
       "         2.62698277e+00,   1.31386141e+01,  -1.54899951e+01,\n",
       "        -4.08717176e+00,  -3.39635895e+00,  -2.29507792e+00,\n",
       "        -1.25161405e+00,   2.17554210e+00,   6.50045058e+00,\n",
       "        -5.86855094e+00,   1.02247444e+00,   2.96662415e+01,\n",
       "        -3.36356385e+00,   9.16734771e+00,   2.20531524e+01,\n",
       "         2.71534863e+00,   6.49768442e+00,  -3.27388046e+00,\n",
       "         8.96143263e+00,  -1.90925363e+01,  -4.04054748e+00,\n",
       "         2.13617043e+00,  -1.96642671e+01,  -1.24734285e+00,\n",
       "        -1.09047167e+01,  -2.23084341e+00,  -6.14916884e+00,\n",
       "        -9.31593411e-01,   8.98957918e-01,  -3.56392313e+01,\n",
       "         1.24260941e+00,   2.84332585e+01,   9.87785233e+00,\n",
       "        -1.71511214e+01,  -5.68448630e+00,   2.17443067e+00,\n",
       "         3.66474494e+00,  -2.70934895e+01,  -2.12161397e+00,\n",
       "        -1.44932794e+01,  -2.60425193e+00,  -1.39503553e+01,\n",
       "        -1.72704183e+00,  -6.30331663e+00,   1.36097226e+01,\n",
       "         3.08339832e+01,  -4.29672848e+00,   4.61604820e+00,\n",
       "         4.37305977e+00,  -2.16448651e+01,  -3.92191713e+00,\n",
       "        -1.11852637e+01,  -1.88861796e-01,  -7.53119318e+00,\n",
       "         1.97354258e+01,  -5.52289604e+00,   4.21026595e+00,\n",
       "         1.74116564e+01,  -1.01946927e+01,   4.42111779e+00,\n",
       "        -4.95017557e+00,   5.21824128e+00,   6.03662787e-02,\n",
       "        -1.60839505e+01,  -2.35385100e+01,  -2.59921184e+01,\n",
       "        -1.49750672e+01,   1.37503069e-01,   8.28924185e-02,\n",
       "        -1.95758410e-01,   9.48926859e+00,   9.39412159e+00,\n",
       "        -1.71290585e+01,  -3.59142887e+00,  -2.35211911e+01,\n",
       "        -1.10291918e+01,  -1.27402675e+00,   1.14319080e+01,\n",
       "        -7.27158483e+00,   1.31346252e+01,  -1.35370672e+01,\n",
       "         2.98650053e+00,  -1.31449395e+01,   3.57498442e+01,\n",
       "         9.78250343e-01,   9.47477280e+00,   1.29548196e+01,\n",
       "         1.02898061e+01,   2.60930855e-01,  -4.08633786e+00,\n",
       "        -2.10152349e+01,  -1.11024295e+01,   7.55690130e+00,\n",
       "        -3.81563650e+00,  -1.62615103e+01,   4.83385631e+00,\n",
       "        -8.96300498e+00,   4.86127145e+00,   3.09420891e+00,\n",
       "         7.88692761e+00,   1.16855204e+01,   7.50221713e+00,\n",
       "        -2.57680224e+00,   2.97881875e+01,   8.94259754e+00,\n",
       "         2.26496499e+00,   2.38299601e+01,   1.57725579e+00,\n",
       "         1.57859078e+00,  -1.39633206e+01,  -7.87236973e+00,\n",
       "        -1.26015445e+01,  -1.21554844e+01,  -8.22553966e+00,\n",
       "         1.88277641e+01,   9.34967058e+00,  -6.12958263e+00,\n",
       "        -1.13237904e+01,   1.93592186e+01,   1.63985633e+01,\n",
       "         1.08769119e+01,   3.19562500e+00,   8.51141743e+00,\n",
       "        -5.50516619e+00,   1.59908949e+01,   1.47474610e+01,\n",
       "        -2.84055449e+01,  -4.63812625e+00,   3.16437597e+01,\n",
       "        -1.40400166e+01,  -8.08041685e+00,  -1.41358504e+01,\n",
       "        -3.72652779e+00,  -6.90994134e+00,   1.13460861e+01,\n",
       "         5.24310683e+00,  -1.89250536e+01,   5.12598379e+00,\n",
       "         1.22522408e+01,  -2.70024406e+00,   1.06076957e+01,\n",
       "        -2.02068101e+00,  -6.62124627e+00,   7.15257747e+00,\n",
       "        -1.64974470e+01,  -8.52382478e+00,  -1.09822178e+01,\n",
       "         9.22835765e+00,  -4.32418011e+00,  -2.92627880e+00,\n",
       "         8.35071297e+00,  -7.95040105e-01,   7.13757334e+00,\n",
       "         3.89069456e+00,  -6.18084696e+00,   2.56897491e+00,\n",
       "         1.50408314e+00,  -7.13374200e-01,   1.48972417e+01,\n",
       "        -6.89885214e+00,   3.42638863e+00,  -7.97768710e+00,\n",
       "         9.15718336e+00,  -7.04380294e+00,   1.93184566e+01,\n",
       "        -1.59383982e+00,  -8.05904639e-01,   3.75524493e+00,\n",
       "         1.02244020e+01,   2.11938596e+01,   1.81022012e+01,\n",
       "        -6.78693209e+00,  -6.17520575e+00,  -2.13030861e+00,\n",
       "        -5.13792232e+00,  -9.64955351e-01,  -1.55431087e+01,\n",
       "         6.74230658e-01,   7.68967904e+00,   1.20964832e+01,\n",
       "        -3.96776417e+00,  -4.95871718e+00,   1.06134800e+01,\n",
       "         1.46013929e+00,  -2.02871579e+01,  -1.34701944e+01,\n",
       "        -1.84771575e+01,  -7.20891692e+00,   3.29013931e+01,\n",
       "        -2.71312521e+01,   2.07972306e+00,   1.31898964e+01,\n",
       "         1.31748656e+01,  -9.44811223e+00,   1.34177011e+01,\n",
       "         2.21792215e-01,   1.93764055e+00,  -8.18075204e+00,\n",
       "        -1.11845476e+01,  -7.06800498e+00,   1.66289467e+00,\n",
       "         1.90273362e+01,  -1.13256656e+01,   1.66627424e+01,\n",
       "        -5.27919926e+00,  -1.01413265e+01,   8.40824409e+00,\n",
       "         1.34770397e+01,   1.45385095e+01,  -1.29837479e+01,\n",
       "         6.72748889e+00,  -5.22792266e+00,   6.83713836e+00,\n",
       "         1.54452745e-01,  -7.75769971e+00,   1.00321871e+01,\n",
       "        -1.89649320e+01,  -7.03205920e-01,   4.90207812e+00,\n",
       "         2.95926137e+01,  -5.33316868e+00,   9.09081660e+00,\n",
       "        -2.00727474e+00,  -1.08131428e+01,   6.11369271e+00,\n",
       "         4.22451185e+00,  -4.84586744e+00,  -1.80218407e+00,\n",
       "         3.45785731e+00,   1.24922649e+01,  -1.56096785e+01,\n",
       "         4.46131438e+00,  -8.56095373e+00,   2.53416454e+00,\n",
       "         6.00896653e+00,  -1.45645216e+01,  -7.25429367e+00,\n",
       "        -4.55679921e+00,   1.92120987e+01,   1.12497521e+01,\n",
       "         7.27326160e+00,   7.68439652e+00,   1.93479770e+01,\n",
       "        -2.98888410e+00,  -1.10213734e+01,  -5.55838713e-01,\n",
       "         2.49925016e+00,   7.82107601e+00,   1.53326275e+01,\n",
       "        -1.83436124e+01,  -2.43702474e+01,  -8.31156125e-01,\n",
       "         1.78167009e+00,  -2.36915295e+01,  -9.13766697e+00,\n",
       "        -5.35546487e+00,   1.69335294e+01,  -8.73684013e-01,\n",
       "        -1.47025776e+00,  -3.91436560e+00,  -3.43039981e+00,\n",
       "        -4.28017635e+00,  -8.48217143e-01,  -5.29238194e+00,\n",
       "        -2.19146230e+01,  -5.68723043e+00,  -6.36729797e-01,\n",
       "        -2.41416829e+01,   5.56609608e+00,   1.11982575e+01,\n",
       "        -1.60977284e+01,   4.98085398e+00,  -4.81472752e-01,\n",
       "        -3.29842552e-01,  -9.08314819e+00,  -6.40588453e+00,\n",
       "        -3.73158281e+00,   1.96695391e+00,   1.97991408e+01,\n",
       "         1.43854716e+01,   4.20102726e-01,   1.62710787e+01,\n",
       "        -1.05023454e+00,   3.81104554e+00,  -1.13637763e+01,\n",
       "         1.78240448e+01,  -2.61599838e+01,  -3.34036210e+00,\n",
       "         5.52836652e+00,   2.09005560e+00,   3.06035449e+01,\n",
       "         5.05368195e+00,  -2.38086748e+01,  -2.03890069e+01,\n",
       "         7.07597165e+00,   7.13958948e+00,  -1.62114044e+01,\n",
       "        -3.48467096e+00,   1.86138460e+00,   6.87894648e+00,\n",
       "         1.19659569e+01,   5.00039934e+00,  -2.53491382e+00,\n",
       "        -7.44630963e+00,  -9.18792123e+00,   5.07330154e+00,\n",
       "        -2.95276534e+00,  -8.36251762e+00,  -9.96466562e+00,\n",
       "        -2.62482108e+00,  -9.28681969e+00,  -1.92487246e+01,\n",
       "        -1.51780431e+01,   2.20349505e+00,  -2.27821331e+01,\n",
       "         7.49075125e+00,  -2.31866371e+01,  -4.35011808e+00,\n",
       "        -3.82959251e+00,  -4.23894571e+00,   1.03584113e+01,\n",
       "         8.36219469e+00,  -1.05617978e+01,   3.67137650e+00,\n",
       "        -7.19378724e-01,  -1.37383487e+01,  -1.42784859e+01,\n",
       "         1.24933300e+01,  -5.26483605e+00,  -2.66687550e+01,\n",
       "        -3.53474843e+00,  -1.22946400e+01,   1.16143669e+01,\n",
       "        -3.55022780e+00,  -8.15301032e-01,   5.72143659e+00,\n",
       "         1.62503155e+01,   4.77226082e+00,  -5.51599693e+00,\n",
       "        -7.96098277e+00,  -9.76365840e+00,   1.42643070e+01,\n",
       "         9.11401516e+00,   1.80011953e+01,   1.89187990e+01,\n",
       "        -1.30545552e+00,   4.31122684e+00,   1.60327074e+01,\n",
       "         1.55380398e+00,   1.65285588e+01,   1.38589687e+01,\n",
       "         1.44059823e+01,   3.21650763e+00,   1.37767615e+01,\n",
       "        -1.37899795e+01,   2.03345601e+01,  -1.45254055e+01,\n",
       "        -2.80725018e-01,   3.41956132e+00,   1.76270049e+01,\n",
       "        -1.96571215e+01,  -1.03169440e+01,  -6.62025065e+00,\n",
       "         6.12023204e+00,   9.31353452e+00,  -7.00262264e+00,\n",
       "         5.95952688e+00,   9.04481250e+00,  -1.49363993e+01,\n",
       "        -5.35905844e+00,   5.26906709e+00,   2.67082819e+01,\n",
       "         8.71424138e+00,   1.27265231e+01,   1.41842527e+01,\n",
       "        -1.45524502e+01,   4.07032002e+00,  -7.28201774e+00,\n",
       "        -1.09371364e+01,   5.45867666e+00,   1.23326539e+01,\n",
       "         3.55627350e+00,   9.98694557e+00,   5.86739367e+00,\n",
       "        -2.40125428e+01,   9.42475838e+00,   9.61146073e+00,\n",
       "         1.17503903e+01,   5.44618211e+00,   5.41180352e+00,\n",
       "         3.79265967e+00,  -4.87415846e+00,  -4.78193568e+00,\n",
       "         1.07928565e+01,  -1.13281945e+01,   8.26948739e-02,\n",
       "        -4.02505838e+00,  -4.12205809e+00,   5.90566745e+00,\n",
       "         1.81915912e+01,   2.74376285e+00,   5.64604499e-01,\n",
       "        -3.69993835e-01,  -5.87242819e+00,  -3.31777285e+00,\n",
       "        -7.69866937e+00,  -1.38919166e+00,  -1.77944867e+01,\n",
       "         5.55650830e+00,   1.24722912e+00,  -5.44664922e+00,\n",
       "        -1.63469508e+01,   1.96974007e+01,  -2.27353463e+01,\n",
       "        -7.26149943e+00,   6.42986216e+00,  -4.63778371e+00,\n",
       "         2.83329709e+00,  -9.64455464e+00,  -2.60511565e+01,\n",
       "         7.60743501e+00,  -5.73341748e+00,   8.29451646e+00,\n",
       "         1.96015493e+01,   1.31633036e+01,  -1.13532280e+01,\n",
       "         6.52553866e+00,  -8.35589339e+00,  -9.59555318e+00,\n",
       "         8.09961732e+00,   2.18484102e+00,  -6.09679824e+00,\n",
       "        -4.84359151e+00,  -2.07561157e+01,   1.89562144e+00,\n",
       "         5.52244285e-01,   6.06775700e+00,  -2.82814473e+00,\n",
       "        -8.57871753e+00,  -1.06469661e+01,   1.57270787e+01,\n",
       "        -4.82326068e+00,   3.46186034e+01,  -8.71022251e+00,\n",
       "         1.92716723e+01,   1.36472972e+01,  -2.17878359e+01,\n",
       "        -4.85104546e+00,   1.45785175e+01,   1.08100295e+01,\n",
       "         5.47386501e+00,  -1.34141426e+01,  -1.16749748e+01,\n",
       "        -1.60343367e+01,   3.83236529e+00,   3.63139422e+00,\n",
       "         1.49136070e+01,  -2.23882237e+00,   9.31647311e+00,\n",
       "         1.31173098e+01,  -1.33630022e+01,   1.61429166e+01,\n",
       "         6.63501271e+00,   2.36576037e+00,  -1.03583793e+01,\n",
       "         8.65718574e+00,   1.04680155e+01,  -1.43337799e+01,\n",
       "        -1.03297792e+01,  -4.12965126e-01,   1.59016050e+01,\n",
       "        -1.69518992e+01,  -2.41851089e+00,   2.83388923e+00,\n",
       "        -3.94053653e+00,   1.08794939e+01,  -1.10584284e+01,\n",
       "        -6.86973367e+00,   6.13059892e+00,  -2.93303717e-01,\n",
       "         5.96257247e+00,  -9.12652053e+00,   8.92329968e+00,\n",
       "         2.60311783e+01,   8.61608400e+00,   1.00893572e+01,\n",
       "         2.63808783e+01,  -1.86050279e+00,  -7.73782685e+00,\n",
       "         1.98623330e+01,  -3.87301221e+00,   1.03040628e+01,\n",
       "         1.00244349e+01,  -3.73319773e+00,   7.16307311e+00,\n",
       "         9.72371648e+00,  -1.28821699e+01,   1.09827789e+01,\n",
       "        -2.97960386e-01,   2.59785598e+01,  -4.84976640e+00,\n",
       "         8.36184971e+00,   2.54181159e+00,  -1.67729540e+01,\n",
       "         1.05385453e+01,   5.83145173e+00,   1.62822477e+01,\n",
       "        -3.31399727e+01,   7.98260206e+00,  -9.17202471e+00,\n",
       "         6.24514575e+00,  -4.07496849e-01,   6.87914000e+00,\n",
       "        -2.41443119e+00,   1.05393192e+01,  -1.31319971e+01,\n",
       "         1.34346971e+01,   1.23834386e+01,  -1.83716952e+00,\n",
       "        -4.91934647e+00,   6.33263294e+00,  -1.41475028e+01,\n",
       "         3.26415066e+00,   1.01932323e+01,  -4.57521396e+00,\n",
       "         2.85233237e-01,   4.58254525e+00,   1.14116751e+00,\n",
       "         1.46730562e+01,  -1.24836986e+01,  -2.32473175e+00,\n",
       "         1.92491864e+01,  -2.27206883e+01,  -5.67380917e+00,\n",
       "        -1.35790039e+01,  -1.37678219e+01,   2.67892313e+00,\n",
       "         1.02969699e+01,  -1.56102366e+01,  -2.07243329e+01,\n",
       "         1.08003440e+00,  -1.64951611e+01,  -3.66596805e+00,\n",
       "         2.31251925e+00,  -9.18479128e+00,   2.29670261e+01,\n",
       "        -1.23739760e+00,   1.49921342e+01,   9.57493533e+00,\n",
       "         1.87292925e+01,   9.51539111e+00,  -8.29861021e+00,\n",
       "         5.91151880e+00,   1.14420894e+01,  -2.66257771e+00,\n",
       "         4.23946848e+00,  -3.39974951e+01,   2.11280324e+01,\n",
       "         7.89676892e-01,  -1.09623630e+01,   1.07655544e+01,\n",
       "        -1.22078940e+01,  -1.06034282e+01,  -7.49388133e+00,\n",
       "         3.71384116e+01,   5.00609628e-01,   7.01515537e+00,\n",
       "         1.91283158e+00,   9.90471739e+00,   6.43327295e-01,\n",
       "         1.87517001e+01,  -3.29139338e+00,  -5.28626444e+00,\n",
       "        -1.64697400e+01,   4.12246325e+00,   6.14801098e+00,\n",
       "         1.04048648e+01,  -7.19756160e+00,   2.75174616e+01,\n",
       "        -2.06814313e+01,   1.33116875e+00,  -1.15690463e+01,\n",
       "        -3.24373659e+01,   1.54570714e+01,   2.45924268e+01,\n",
       "         4.12768452e+00,  -4.28392922e+00,  -1.42493177e+01,\n",
       "        -2.01071618e+01,  -2.55451118e+00,  -1.37057049e+01,\n",
       "        -1.94181640e+01,   8.92990206e+00,  -6.63314125e+00,\n",
       "        -1.31191883e+01,  -1.21562304e+01,  -2.25011440e+01,\n",
       "        -2.69773647e+00,  -5.34028897e+00,  -1.00338305e+00,\n",
       "         1.67993639e+01,   1.17968657e+01,   8.24953312e+00,\n",
       "        -9.55466563e-01,  -8.04437745e-01,  -4.88814122e+00,\n",
       "        -1.34758524e+01,  -7.88878255e+00,   6.02681038e-01,\n",
       "        -1.75717777e+01,   4.57562772e+00,  -2.70030988e+00,\n",
       "         2.77580732e+00,   3.41887991e+00,   1.87236272e+01,\n",
       "         1.78770685e+01,  -9.65727616e-01,   7.00317996e+00,\n",
       "         1.18466792e+00,   3.38221328e+00,  -3.05396104e+00,\n",
       "         4.84298257e+00,   9.40729439e+00,  -3.35661825e-01,\n",
       "         3.23889630e+00,   1.37403040e+00,   2.64095853e+01,\n",
       "        -9.10878210e+00,  -2.11627629e+01,   4.20109241e+00,\n",
       "        -6.71370210e+00,   3.76265374e+00,   5.26748470e-01,\n",
       "        -2.15866200e+01,   1.61203419e+01,   1.29727450e+01,\n",
       "        -2.24459113e+01,  -9.63459431e-01,  -2.73409699e+01,\n",
       "         9.84433316e+00,  -1.31226564e+01,  -1.95118005e+01,\n",
       "        -7.31937917e+00,  -5.83399418e+00,   1.15814330e+01,\n",
       "         1.12259750e+00,  -9.02222135e+00,  -2.08397836e+00,\n",
       "         8.16444368e-01,  -1.26076226e+01,  -7.57822236e+00,\n",
       "         7.10647672e+00,   8.78753484e+00,   2.41658293e+01,\n",
       "        -1.58887834e+01,   6.00617676e+00,  -1.57604458e+01,\n",
       "        -8.47134810e+00,   9.73156540e+00,   8.31763708e+00,\n",
       "        -1.06954368e+00,  -5.31979096e+00,   1.13185915e+01,\n",
       "         1.80293776e+01,   4.10141365e+00,  -5.20247441e+00,\n",
       "         3.97141986e+00,   8.97874428e+00,  -2.48187282e+00,\n",
       "         1.55230536e+00,  -3.77243235e+00,  -5.80491912e+00,\n",
       "        -6.38321216e+00,  -4.46044134e+00,   6.07377365e+00,\n",
       "        -6.72173335e+00,  -2.61247093e+00,   8.45562886e+00,\n",
       "        -5.26059250e+00,  -8.13719459e+00,  -4.91379832e+00,\n",
       "        -1.28983083e+01,  -1.08362006e+01,  -9.45685033e+00,\n",
       "         1.80746216e+01,   9.20932599e-01,  -8.00300237e+00,\n",
       "         1.77586612e+00,  -1.01339109e+01,  -1.03165302e+00,\n",
       "         2.48179813e+00,   1.31651431e+01,   1.47756602e+01,\n",
       "        -8.09857857e+00,   1.01691895e+01,  -1.18640283e+01,\n",
       "         1.16810298e+01,  -1.58745936e+01,  -3.41492750e+00,\n",
       "         2.42546152e+01,   5.29644016e+00,  -5.72293439e+00,\n",
       "        -1.42473711e+00,  -1.90598672e+00,  -4.49243375e+00,\n",
       "         3.94306568e+00,  -2.69441005e+00,   1.24669113e+01,\n",
       "         8.71099120e+00,   9.88015449e-01,  -8.30540069e+00,\n",
       "         2.78201113e+00,  -1.08936471e+01,  -2.88464386e+00,\n",
       "         2.24631134e+01,  -1.72237161e+00,  -1.08884506e+01,\n",
       "        -4.04339485e+00,  -1.22515771e+01,   1.53621799e+01,\n",
       "        -5.28939263e+00,  -7.91731345e-01,  -1.55678450e+01,\n",
       "         5.56206875e+00,  -1.70952774e+00,   2.52331561e-01,\n",
       "         4.67035256e+00,  -6.91742393e+00,   6.86564456e+00,\n",
       "         1.10209592e+01,   1.13592142e+01,   1.62525187e+01,\n",
       "         1.92304153e+01,   1.32233833e+01,  -2.67623512e+00,\n",
       "        -8.88309034e+00,   1.97910480e+01,  -1.23377321e+01,\n",
       "         9.74007715e+00,   2.46913445e+00,   1.66871246e+01,\n",
       "        -2.21610667e+01,  -2.34481374e+01,  -8.53653493e+00,\n",
       "         1.99392678e+01,   2.39980191e+01,   2.03327249e+01,\n",
       "         1.13755239e+01,   1.77808585e+01,   1.58094163e+01,\n",
       "        -1.91390945e+00,   5.56951428e+00,   3.49500158e+01,\n",
       "        -1.64865194e+01,   1.22449731e+00,   1.64147974e+01,\n",
       "        -1.36568321e+01,   1.08577143e+00,   1.89655932e+01,\n",
       "         4.92481802e+00,  -1.68121248e+00,  -1.81189850e+00,\n",
       "        -1.99777302e+00,  -9.40954264e+00,  -2.34454888e+01,\n",
       "         2.09065168e+00,  -7.19168781e+00,   1.22465128e+01,\n",
       "        -4.21175374e+00,  -1.18594144e+01,   1.36742022e+01,\n",
       "         1.87225630e+01,   4.54754480e+00,   9.59389772e+00,\n",
       "        -5.58355817e+00,  -8.62799172e+00,   8.98594694e+00,\n",
       "         1.75946204e+01,  -1.71938279e+01,   4.49752701e+00,\n",
       "        -4.67225733e+00,   2.85234439e+01,  -1.93479955e+01,\n",
       "        -1.31002393e+00,  -4.99658845e+00,   7.39318560e+00,\n",
       "        -8.17745566e+00,   4.94644116e+00,  -1.06871447e+00,\n",
       "        -9.54418063e+00,  -7.42065682e+00,  -6.07267708e+00,\n",
       "        -3.90903764e+00,  -2.42835978e+00,   1.48698015e+01,\n",
       "        -2.11469338e+00,   7.11060502e+00,   4.95334760e+00,\n",
       "        -3.26111484e+00])"
      ]
     },
     "execution_count": 26,
     "metadata": {},
     "output_type": "execute_result"
    }
   ],
   "source": [
    "y = np.random.normal(mu_samples, sigma_samples)\n",
    "y"
   ]
  },
  {
   "cell_type": "code",
   "execution_count": 42,
   "metadata": {},
   "outputs": [
    {
     "name": "stdout",
     "output_type": "stream",
     "text": [
      "[<matplotlib.axes._subplots.AxesSubplot object at 0x1c22439400>\n",
      " <matplotlib.axes._subplots.AxesSubplot object at 0x1c2264a6d8>\n",
      " <matplotlib.axes._subplots.AxesSubplot object at 0x1c2266c390>]\n"
     ]
    },
    {
     "data": {
      "text/plain": [
       "<matplotlib.text.Text at 0x1c226cf4a8>"
      ]
     },
     "execution_count": 42,
     "metadata": {},
     "output_type": "execute_result"
    },
    {
     "data": {
      "image/png": "[encoded data removed]",
      "text/plain": [
       "<matplotlib.figure.Figure at 0x1c21856748>"
      ]
     },
     "metadata": {},
     "output_type": "display_data"
    }
   ],
   "source": [
    "_, axes = plt.subplots(1,3, figsize=(8,4))\n",
    "print(axes)\n",
    "#sns.kdeplot(mu_samples, ax=ax[0])\n",
    "axes[0].hist(mu_samples, histtype='stepfilled', bins=30, alpha=0.85,\n",
    "         label=\"samples of $\\mu$\", color=\"#A60628\", normed=True)\n",
    "axes[0].set_title(\"$\\mu$\")\n",
    "#sns.kdeplot(sigma_samples, ax=ax[1]);\n",
    "axes[1].hist(sigma_samples, histtype='stepfilled', bins=30, alpha=0.85,\n",
    "         label=\"samples of $\\sigma$\", color=\"#A60628\", normed=True)\n",
    "axes[1].set_title(\"$\\sigma$\")\n",
    "#sns.kdeplot(y, ax=ax[2])\n",
    "axes[2].hist(y, histtype='stepfilled', bins=30, alpha=0.85,\n",
    "         label=\"samples of $y$\", color=\"#A60628\", normed=True)\n",
    "axes[2].set_title(\"y\")"
   ]
  },
  {
   "cell_type": "code",
   "execution_count": 31,
   "metadata": {},
   "outputs": [
    {
     "data": {
      "text/plain": [
       "(array([ 0.00082443,  0.00082443,  0.00041221,  0.0028855 ,  0.00370993,\n",
       "         0.00618322,  0.00741986,  0.00783208,  0.01483972,  0.01648858,\n",
       "         0.02308401,  0.02596951,  0.03338937,  0.03586266,  0.03215273,\n",
       "         0.02967944,  0.03338937,  0.02720616,  0.03174052,  0.01813744,\n",
       "         0.01731301,  0.01319086,  0.01360308,  0.00370993,  0.0028855 ,\n",
       "         0.00247329,  0.0028855 ,  0.00206107,  0.00082443,  0.00123664]),\n",
       " array([-35.63923134, -33.21330991, -30.78738848, -28.36146705,\n",
       "        -25.93554562, -23.50962419, -21.08370276, -18.65778133,\n",
       "        -16.23185989, -13.80593846, -11.38001703,  -8.9540956 ,\n",
       "         -6.52817417,  -4.10225274,  -1.67633131,   0.74959012,\n",
       "          3.17551155,   5.60143299,   8.02735442,  10.45327585,\n",
       "         12.87919728,  15.30511871,  17.73104014,  20.15696157,\n",
       "         22.582883  ,  25.00880443,  27.43472587,  29.8606473 ,\n",
       "         32.28656873,  34.71249016,  37.13841159]),\n",
       " <a list of 1 Patch objects>)"
      ]
     },
     "execution_count": 31,
     "metadata": {},
     "output_type": "execute_result"
    },
    {
     "data": {
      "image/png": "[encoded data removed]",
      "text/plain": [
       "<matplotlib.figure.Figure at 0x1c21d41860>"
      ]
     },
     "metadata": {},
     "output_type": "display_data"
    }
   ],
   "source": []
  },
  {
   "cell_type": "markdown",
   "metadata": {},
   "source": [
    "## 4M2\n",
    "\n",
    "Translate the model just above into a `map` formula."
   ]
  },
  {
   "cell_type": "code",
   "execution_count": 28,
   "metadata": {},
   "outputs": [],
   "source": [
    "import pymc3 as pm"
   ]
  },
  {
   "cell_type": "code",
   "execution_count": 29,
   "metadata": {},
   "outputs": [
    {
     "name": "stderr",
     "output_type": "stream",
     "text": [
      "logp = -3,918.2, ||grad|| = 0.014972: 100%|██████████| 30/30 [00:00<00:00, 2698.34it/s]  \n"
     ]
    }
   ],
   "source": [
    "with pm.Model() as _4m2_model:\n",
    "    mu = pm.Normal('mu', 0,10)\n",
    "    sigma = pm.Uniform('sigma', 0,10)\n",
    "    obs_y = pm.Normal('y', mu, sigma, observed=y)\n",
    "    \n",
    "    _4m2_map = pm.find_MAP()"
   ]
  },
  {
   "cell_type": "code",
   "execution_count": 30,
   "metadata": {},
   "outputs": [
    {
     "data": {
      "text/plain": [
       "{'mu': array(0.5426344485606438),\n",
       " 'sigma': array(9.999999811591016),\n",
       " 'sigma_interval__': array(17.787235859761655)}"
      ]
     },
     "execution_count": 30,
     "metadata": {},
     "output_type": "execute_result"
    }
   ],
   "source": [
    "_4m2_map"
   ]
  },
  {
   "cell_type": "markdown",
   "metadata": {},
   "source": [
    "## 4M3\n",
    "\n",
    "Translate the `map` model formula below into a mathematical model definition.\n",
    "\n",
    "    flist <- alist(\n",
    "        y ~ dnorm( mu, sigma),\n",
    "        mu <- a + b*x,\n",
    "        a ~ dnorm(0, 50),\n",
    "        b ~ dunif(0, 10),\n",
    "        sigma ~ dunif(0,50)\n",
    "    )\n",
    "\n"
   ]
  },
  {
   "cell_type": "markdown",
   "metadata": {},
   "source": [
    "### Ans\n",
    "\n",
    "$y \\sim \\text{Normal(} \\mu, \\sigma\\text{)}$\n",
    "\n",
    "$\\mu = \\alpha + \\beta X$\n",
    "\n",
    "$\\alpha \\sim \\text{Normal(}0,50\\text{)}$\n",
    "\n",
    "$\\beta \\sim \\text{Uniform(}0,10\\text{)}$\n",
    "\n",
    "$\\sigma \\sim \\text{Uniform(}0,50\\text{)}$"
   ]
  },
  {
   "cell_type": "markdown",
   "metadata": {},
   "source": [
    "## 4M4\n",
    "\n",
    "A sample of students is measured for height each year for 3 years. After the third year, you want to fit a linear regression predicting height using year as a predictor. Write down the mathematical model definition for this regression, using any variable names and priors you choose. Be prepared to defend your choice of priors."
   ]
  },
  {
   "cell_type": "markdown",
   "metadata": {},
   "source": [
    "### Ans\n",
    "\n",
    "$h \\sim \\text{Normal(}\\mu, \\sigma\\text{)}$\n",
    "\n",
    "$\\mu = \\alpha + \\beta y$\n",
    "\n",
    "$\\alpha \\sim \\text{Normal(}118.8, 22 \\text{)}$\n",
    "\n",
    "$\\beta \\sim \\text{Uniform(}0,11)$\n",
    "\n",
    "$\\sigma \\sim \\text{Uniform(}0,15.4 \\text{)}$"
   ]
  },
  {
   "cell_type": "markdown",
   "metadata": {},
   "source": [
    "## 4M5\n",
    "\n",
    "Now suppose I tell you that the average height in the first year wast 120 cm and that every student got taller each year. Does this information lead you to change your choice of priors? How?"
   ]
  },
  {
   "cell_type": "markdown",
   "metadata": {},
   "source": [
    "### Ans\n",
    "\n",
    "$\\alpha$, the height when year is 0, would be changed to be Normal($120, 5$). I essentially increased the mean to the sample mean, and then decreased the standard deviation to account for increased certainty about the whereabouts of the population parameter."
   ]
  },
  {
   "cell_type": "markdown",
   "metadata": {},
   "source": [
    "## 4M6\n",
    "\n",
    "Now suppose I tell you that the variance among heights for students of the same age is more than 64 cm. How does this lead you to revise your priors?"
   ]
  },
  {
   "cell_type": "markdown",
   "metadata": {},
   "source": [
    "### Ans\n",
    "\n",
    "I would change $\\sigma$ to be Uniform($60,68$)."
   ]
  },
  {
   "cell_type": "markdown",
   "metadata": {},
   "source": [
    "# Hard\n",
    "## 4H1\n",
    "\n",
    "The weights listed below were recorded in the !Kung census, but heights were not recorded for these individuals. Provide predicted heights and 89% intervals (either HPDI or PI) for each of these individuals. That is , fill in the table below, using model-based predictions.\n"
   ]
  },
  {
   "cell_type": "markdown",
   "metadata": {},
   "source": [
    "### Ans\n",
    "\n",
    "|Individual | weight | expected height | 89% interval |\n",
    "|-----------|--------|-----------------|--------------|\n",
    "| 1         | 46.95  |     45.40       |  (20.9,62.5) |\n",
    "| 2         | 43.72  |     43.7        |  (27.5,60.0)|\n",
    "| 3         | 64.78  |     54.2       |  (34.4,73.7)|\n",
    "| 4         | 32.59  |     38.2       |  (23.7,52.8)|\n",
    "| 5         | 54.63  |     49.3        |  (31.5,67.4) |"
   ]
  },
  {
   "cell_type": "code",
   "execution_count": 96,
   "metadata": {},
   "outputs": [],
   "source": [
    "with pm.Model() as kung_weight_to_height_model:\n",
    "    alpha = pm.Normal('alpha', 50, 13)\n",
    "    beta = pm.Uniform('beta', 0, 3)\n",
    "    weight = pm.Normal('weight', 46, 20)\n",
    "    sigma = pm.Uniform('sigma', 0, 4)\n",
    "    mu = beta * weight + alpha\n",
    "    pm.Normal('height', mu, sigma)\n",
    "    "
   ]
  },
  {
   "cell_type": "code",
   "execution_count": 242,
   "metadata": {},
   "outputs": [],
   "source": [
    "def predict_kung_heights(value):\n",
    "    # returns values in inches\n",
    "    alpha = np.random.normal(22, 5, 10000)\n",
    "    beta = np.random.normal(0.5, 0.15, 10000)\n",
    "    values = (np.ones(10000) * value)\n",
    "    \n",
    "    mu = alpha + beta * values\n",
    "    sigma = np.random.uniform(9.5,1.25, 10000)\n",
    "    predictions = np.random.normal(mu, sigma)\n",
    "    return {\n",
    "        'mean': predictions.mean(),\n",
    "        '5.5%':  np.percentile(predictions, 5.5),\n",
    "        '94.5%': np.percentile(predictions, 94.5)\n",
    "    }"
   ]
  },
  {
   "cell_type": "code",
   "execution_count": 238,
   "metadata": {},
   "outputs": [
    {
     "data": {
      "text/plain": [
       "{'5.5%': 28.95089767049301,\n",
       " '94.5%': 62.514672020728625,\n",
       " 'mean': 45.407564829558027}"
      ]
     },
     "execution_count": 238,
     "metadata": {},
     "output_type": "execute_result"
    }
   ],
   "source": [
    "predict_kung_heights(46.95)"
   ]
  },
  {
   "cell_type": "code",
   "execution_count": 239,
   "metadata": {},
   "outputs": [
    {
     "data": {
      "text/plain": [
       "{'5.5%': 27.513886704113766,\n",
       " '94.5%': 59.952752252961609,\n",
       " 'mean': 43.79298104245153}"
      ]
     },
     "execution_count": 239,
     "metadata": {},
     "output_type": "execute_result"
    }
   ],
   "source": [
    "predict_kung_heights(43.72)"
   ]
  },
  {
   "cell_type": "code",
   "execution_count": 240,
   "metadata": {},
   "outputs": [
    {
     "data": {
      "text/plain": [
       "{'5.5%': 34.350864247808154,\n",
       " '94.5%': 73.733434283044218,\n",
       " 'mean': 54.16924441621741}"
      ]
     },
     "execution_count": 240,
     "metadata": {},
     "output_type": "execute_result"
    }
   ],
   "source": [
    "predict_kung_heights(64.78)"
   ]
  },
  {
   "cell_type": "code",
   "execution_count": 243,
   "metadata": {},
   "outputs": [
    {
     "data": {
      "text/plain": [
       "{'5.5%': 23.740274227440068,\n",
       " '94.5%': 52.829310325209107,\n",
       " 'mean': 38.203617324467793}"
      ]
     },
     "execution_count": 243,
     "metadata": {},
     "output_type": "execute_result"
    }
   ],
   "source": [
    "predict_kung_heights(32.59)"
   ]
  },
  {
   "cell_type": "code",
   "execution_count": 244,
   "metadata": {},
   "outputs": [
    {
     "data": {
      "text/plain": [
       "{'5.5%': 31.463222680322541,\n",
       " '94.5%': 67.403386591655789,\n",
       " 'mean': 49.323837403749828}"
      ]
     },
     "execution_count": 244,
     "metadata": {},
     "output_type": "execute_result"
    }
   ],
   "source": [
    "predict_kung_heights(54.63)"
   ]
  },
  {
   "cell_type": "code",
   "execution_count": 241,
   "metadata": {},
   "outputs": [
    {
     "data": {
      "text/plain": [
       "{'5.5%': 36.513119810426439,\n",
       " '94.5%': 79.560456645089886,\n",
       " 'mean': 57.976111854294942}"
      ]
     },
     "execution_count": 241,
     "metadata": {},
     "output_type": "execute_result"
    }
   ],
   "source": [
    "predict_kung_heights(72.72)"
   ]
  },
  {
   "cell_type": "markdown",
   "metadata": {},
   "source": [
    "## 4H2\n",
    "\n",
    "Select out all the rows in the `Howell1` data with ages below 18 years of age. If you do it right, you should end up with a new data frame with 192 rows in it."
   ]
  },
  {
   "cell_type": "code",
   "execution_count": 254,
   "metadata": {
    "scrolled": false
   },
   "outputs": [
    {
     "data": {
      "text/html": [
       "<div>\n",
       "<style scoped>\n",
       "    .dataframe tbody tr th:only-of-type {\n",
       "        vertical-align: middle;\n",
       "    }\n",
       "\n",
       "    .dataframe tbody tr th {\n",
       "        vertical-align: top;\n",
       "    }\n",
       "\n",
       "    .dataframe thead th {\n",
       "        text-align: right;\n",
       "    }\n",
       "</style>\n",
       "<table border=\"1\" class=\"dataframe\">\n",
       "  <thead>\n",
       "    <tr style=\"text-align: right;\">\n",
       "      <th></th>\n",
       "      <th>height</th>\n",
       "      <th>weight</th>\n",
       "      <th>age</th>\n",
       "      <th>male</th>\n",
       "    </tr>\n",
       "  </thead>\n",
       "  <tbody>\n",
       "    <tr>\n",
       "      <th>0</th>\n",
       "      <td>151.7650</td>\n",
       "      <td>47.825606</td>\n",
       "      <td>63.0</td>\n",
       "      <td>1</td>\n",
       "    </tr>\n",
       "    <tr>\n",
       "      <th>1</th>\n",
       "      <td>139.7000</td>\n",
       "      <td>36.485807</td>\n",
       "      <td>63.0</td>\n",
       "      <td>0</td>\n",
       "    </tr>\n",
       "    <tr>\n",
       "      <th>2</th>\n",
       "      <td>136.5250</td>\n",
       "      <td>31.864838</td>\n",
       "      <td>65.0</td>\n",
       "      <td>0</td>\n",
       "    </tr>\n",
       "    <tr>\n",
       "      <th>3</th>\n",
       "      <td>156.8450</td>\n",
       "      <td>53.041915</td>\n",
       "      <td>41.0</td>\n",
       "      <td>1</td>\n",
       "    </tr>\n",
       "    <tr>\n",
       "      <th>4</th>\n",
       "      <td>145.4150</td>\n",
       "      <td>41.276872</td>\n",
       "      <td>51.0</td>\n",
       "      <td>0</td>\n",
       "    </tr>\n",
       "    <tr>\n",
       "      <th>5</th>\n",
       "      <td>163.8300</td>\n",
       "      <td>62.992589</td>\n",
       "      <td>35.0</td>\n",
       "      <td>1</td>\n",
       "    </tr>\n",
       "    <tr>\n",
       "      <th>6</th>\n",
       "      <td>149.2250</td>\n",
       "      <td>38.243476</td>\n",
       "      <td>32.0</td>\n",
       "      <td>0</td>\n",
       "    </tr>\n",
       "    <tr>\n",
       "      <th>7</th>\n",
       "      <td>168.9100</td>\n",
       "      <td>55.479971</td>\n",
       "      <td>27.0</td>\n",
       "      <td>1</td>\n",
       "    </tr>\n",
       "    <tr>\n",
       "      <th>8</th>\n",
       "      <td>147.9550</td>\n",
       "      <td>34.869885</td>\n",
       "      <td>19.0</td>\n",
       "      <td>0</td>\n",
       "    </tr>\n",
       "    <tr>\n",
       "      <th>9</th>\n",
       "      <td>165.1000</td>\n",
       "      <td>54.487739</td>\n",
       "      <td>54.0</td>\n",
       "      <td>1</td>\n",
       "    </tr>\n",
       "    <tr>\n",
       "      <th>10</th>\n",
       "      <td>154.3050</td>\n",
       "      <td>49.895120</td>\n",
       "      <td>47.0</td>\n",
       "      <td>0</td>\n",
       "    </tr>\n",
       "    <tr>\n",
       "      <th>11</th>\n",
       "      <td>151.1300</td>\n",
       "      <td>41.220173</td>\n",
       "      <td>66.0</td>\n",
       "      <td>1</td>\n",
       "    </tr>\n",
       "    <tr>\n",
       "      <th>12</th>\n",
       "      <td>144.7800</td>\n",
       "      <td>36.032215</td>\n",
       "      <td>73.0</td>\n",
       "      <td>0</td>\n",
       "    </tr>\n",
       "    <tr>\n",
       "      <th>13</th>\n",
       "      <td>149.9000</td>\n",
       "      <td>47.700000</td>\n",
       "      <td>20.0</td>\n",
       "      <td>0</td>\n",
       "    </tr>\n",
       "    <tr>\n",
       "      <th>14</th>\n",
       "      <td>150.4950</td>\n",
       "      <td>33.849303</td>\n",
       "      <td>65.3</td>\n",
       "      <td>0</td>\n",
       "    </tr>\n",
       "    <tr>\n",
       "      <th>15</th>\n",
       "      <td>163.1950</td>\n",
       "      <td>48.562694</td>\n",
       "      <td>36.0</td>\n",
       "      <td>1</td>\n",
       "    </tr>\n",
       "    <tr>\n",
       "      <th>16</th>\n",
       "      <td>157.4800</td>\n",
       "      <td>42.325803</td>\n",
       "      <td>44.0</td>\n",
       "      <td>1</td>\n",
       "    </tr>\n",
       "    <tr>\n",
       "      <th>17</th>\n",
       "      <td>143.9418</td>\n",
       "      <td>38.356873</td>\n",
       "      <td>31.0</td>\n",
       "      <td>0</td>\n",
       "    </tr>\n",
       "    <tr>\n",
       "      <th>18</th>\n",
       "      <td>121.9200</td>\n",
       "      <td>19.617854</td>\n",
       "      <td>12.0</td>\n",
       "      <td>1</td>\n",
       "    </tr>\n",
       "    <tr>\n",
       "      <th>19</th>\n",
       "      <td>105.4100</td>\n",
       "      <td>13.947954</td>\n",
       "      <td>8.0</td>\n",
       "      <td>0</td>\n",
       "    </tr>\n",
       "    <tr>\n",
       "      <th>20</th>\n",
       "      <td>86.3600</td>\n",
       "      <td>10.489315</td>\n",
       "      <td>6.5</td>\n",
       "      <td>0</td>\n",
       "    </tr>\n",
       "    <tr>\n",
       "      <th>21</th>\n",
       "      <td>161.2900</td>\n",
       "      <td>48.987936</td>\n",
       "      <td>39.0</td>\n",
       "      <td>1</td>\n",
       "    </tr>\n",
       "    <tr>\n",
       "      <th>22</th>\n",
       "      <td>156.2100</td>\n",
       "      <td>42.722697</td>\n",
       "      <td>29.0</td>\n",
       "      <td>0</td>\n",
       "    </tr>\n",
       "    <tr>\n",
       "      <th>23</th>\n",
       "      <td>129.5400</td>\n",
       "      <td>23.586784</td>\n",
       "      <td>13.0</td>\n",
       "      <td>1</td>\n",
       "    </tr>\n",
       "    <tr>\n",
       "      <th>24</th>\n",
       "      <td>109.2200</td>\n",
       "      <td>15.989118</td>\n",
       "      <td>7.0</td>\n",
       "      <td>0</td>\n",
       "    </tr>\n",
       "    <tr>\n",
       "      <th>25</th>\n",
       "      <td>146.4000</td>\n",
       "      <td>35.493574</td>\n",
       "      <td>56.0</td>\n",
       "      <td>1</td>\n",
       "    </tr>\n",
       "    <tr>\n",
       "      <th>26</th>\n",
       "      <td>148.5900</td>\n",
       "      <td>37.903281</td>\n",
       "      <td>45.0</td>\n",
       "      <td>0</td>\n",
       "    </tr>\n",
       "    <tr>\n",
       "      <th>27</th>\n",
       "      <td>147.3200</td>\n",
       "      <td>35.465224</td>\n",
       "      <td>19.0</td>\n",
       "      <td>0</td>\n",
       "    </tr>\n",
       "    <tr>\n",
       "      <th>28</th>\n",
       "      <td>137.1600</td>\n",
       "      <td>27.328918</td>\n",
       "      <td>17.0</td>\n",
       "      <td>1</td>\n",
       "    </tr>\n",
       "    <tr>\n",
       "      <th>29</th>\n",
       "      <td>125.7300</td>\n",
       "      <td>22.679600</td>\n",
       "      <td>16.0</td>\n",
       "      <td>0</td>\n",
       "    </tr>\n",
       "    <tr>\n",
       "      <th>...</th>\n",
       "      <td>...</td>\n",
       "      <td>...</td>\n",
       "      <td>...</td>\n",
       "      <td>...</td>\n",
       "    </tr>\n",
       "    <tr>\n",
       "      <th>514</th>\n",
       "      <td>151.7650</td>\n",
       "      <td>42.807745</td>\n",
       "      <td>43.0</td>\n",
       "      <td>0</td>\n",
       "    </tr>\n",
       "    <tr>\n",
       "      <th>515</th>\n",
       "      <td>148.5900</td>\n",
       "      <td>35.890467</td>\n",
       "      <td>70.0</td>\n",
       "      <td>0</td>\n",
       "    </tr>\n",
       "    <tr>\n",
       "      <th>516</th>\n",
       "      <td>153.6700</td>\n",
       "      <td>44.225220</td>\n",
       "      <td>26.0</td>\n",
       "      <td>0</td>\n",
       "    </tr>\n",
       "    <tr>\n",
       "      <th>517</th>\n",
       "      <td>53.9750</td>\n",
       "      <td>4.252425</td>\n",
       "      <td>0.0</td>\n",
       "      <td>0</td>\n",
       "    </tr>\n",
       "    <tr>\n",
       "      <th>518</th>\n",
       "      <td>146.6850</td>\n",
       "      <td>38.073378</td>\n",
       "      <td>48.0</td>\n",
       "      <td>0</td>\n",
       "    </tr>\n",
       "    <tr>\n",
       "      <th>519</th>\n",
       "      <td>56.5150</td>\n",
       "      <td>5.159609</td>\n",
       "      <td>0.0</td>\n",
       "      <td>0</td>\n",
       "    </tr>\n",
       "    <tr>\n",
       "      <th>520</th>\n",
       "      <td>100.9650</td>\n",
       "      <td>14.316498</td>\n",
       "      <td>5.0</td>\n",
       "      <td>1</td>\n",
       "    </tr>\n",
       "    <tr>\n",
       "      <th>521</th>\n",
       "      <td>121.9200</td>\n",
       "      <td>23.218241</td>\n",
       "      <td>8.0</td>\n",
       "      <td>1</td>\n",
       "    </tr>\n",
       "    <tr>\n",
       "      <th>522</th>\n",
       "      <td>81.5848</td>\n",
       "      <td>10.659412</td>\n",
       "      <td>3.0</td>\n",
       "      <td>0</td>\n",
       "    </tr>\n",
       "    <tr>\n",
       "      <th>523</th>\n",
       "      <td>154.9400</td>\n",
       "      <td>44.111822</td>\n",
       "      <td>44.0</td>\n",
       "      <td>1</td>\n",
       "    </tr>\n",
       "    <tr>\n",
       "      <th>524</th>\n",
       "      <td>156.2100</td>\n",
       "      <td>44.026773</td>\n",
       "      <td>33.0</td>\n",
       "      <td>0</td>\n",
       "    </tr>\n",
       "    <tr>\n",
       "      <th>525</th>\n",
       "      <td>132.7150</td>\n",
       "      <td>24.975910</td>\n",
       "      <td>15.0</td>\n",
       "      <td>1</td>\n",
       "    </tr>\n",
       "    <tr>\n",
       "      <th>526</th>\n",
       "      <td>125.0950</td>\n",
       "      <td>22.594552</td>\n",
       "      <td>12.0</td>\n",
       "      <td>0</td>\n",
       "    </tr>\n",
       "    <tr>\n",
       "      <th>527</th>\n",
       "      <td>101.6000</td>\n",
       "      <td>14.344847</td>\n",
       "      <td>5.0</td>\n",
       "      <td>0</td>\n",
       "    </tr>\n",
       "    <tr>\n",
       "      <th>528</th>\n",
       "      <td>160.6550</td>\n",
       "      <td>47.882306</td>\n",
       "      <td>41.0</td>\n",
       "      <td>1</td>\n",
       "    </tr>\n",
       "    <tr>\n",
       "      <th>529</th>\n",
       "      <td>146.0500</td>\n",
       "      <td>39.405805</td>\n",
       "      <td>37.4</td>\n",
       "      <td>0</td>\n",
       "    </tr>\n",
       "    <tr>\n",
       "      <th>530</th>\n",
       "      <td>132.7150</td>\n",
       "      <td>24.777463</td>\n",
       "      <td>13.0</td>\n",
       "      <td>0</td>\n",
       "    </tr>\n",
       "    <tr>\n",
       "      <th>531</th>\n",
       "      <td>87.6300</td>\n",
       "      <td>10.659412</td>\n",
       "      <td>6.0</td>\n",
       "      <td>0</td>\n",
       "    </tr>\n",
       "    <tr>\n",
       "      <th>532</th>\n",
       "      <td>156.2100</td>\n",
       "      <td>41.050076</td>\n",
       "      <td>53.0</td>\n",
       "      <td>1</td>\n",
       "    </tr>\n",
       "    <tr>\n",
       "      <th>533</th>\n",
       "      <td>152.4000</td>\n",
       "      <td>40.823280</td>\n",
       "      <td>49.0</td>\n",
       "      <td>0</td>\n",
       "    </tr>\n",
       "    <tr>\n",
       "      <th>534</th>\n",
       "      <td>162.5600</td>\n",
       "      <td>47.031821</td>\n",
       "      <td>27.0</td>\n",
       "      <td>0</td>\n",
       "    </tr>\n",
       "    <tr>\n",
       "      <th>535</th>\n",
       "      <td>114.9350</td>\n",
       "      <td>17.519991</td>\n",
       "      <td>7.0</td>\n",
       "      <td>1</td>\n",
       "    </tr>\n",
       "    <tr>\n",
       "      <th>536</th>\n",
       "      <td>67.9450</td>\n",
       "      <td>7.229123</td>\n",
       "      <td>1.0</td>\n",
       "      <td>0</td>\n",
       "    </tr>\n",
       "    <tr>\n",
       "      <th>537</th>\n",
       "      <td>142.8750</td>\n",
       "      <td>34.246196</td>\n",
       "      <td>31.0</td>\n",
       "      <td>0</td>\n",
       "    </tr>\n",
       "    <tr>\n",
       "      <th>538</th>\n",
       "      <td>76.8350</td>\n",
       "      <td>8.022908</td>\n",
       "      <td>1.0</td>\n",
       "      <td>1</td>\n",
       "    </tr>\n",
       "    <tr>\n",
       "      <th>539</th>\n",
       "      <td>145.4150</td>\n",
       "      <td>31.127751</td>\n",
       "      <td>17.0</td>\n",
       "      <td>1</td>\n",
       "    </tr>\n",
       "    <tr>\n",
       "      <th>540</th>\n",
       "      <td>162.5600</td>\n",
       "      <td>52.163080</td>\n",
       "      <td>31.0</td>\n",
       "      <td>1</td>\n",
       "    </tr>\n",
       "    <tr>\n",
       "      <th>541</th>\n",
       "      <td>156.2100</td>\n",
       "      <td>54.062496</td>\n",
       "      <td>21.0</td>\n",
       "      <td>0</td>\n",
       "    </tr>\n",
       "    <tr>\n",
       "      <th>542</th>\n",
       "      <td>71.1200</td>\n",
       "      <td>8.051258</td>\n",
       "      <td>0.0</td>\n",
       "      <td>1</td>\n",
       "    </tr>\n",
       "    <tr>\n",
       "      <th>543</th>\n",
       "      <td>158.7500</td>\n",
       "      <td>52.531624</td>\n",
       "      <td>68.0</td>\n",
       "      <td>1</td>\n",
       "    </tr>\n",
       "  </tbody>\n",
       "</table>\n",
       "<p>544 rows × 4 columns</p>\n",
       "</div>"
      ],
      "text/plain": [
       "       height     weight   age  male\n",
       "0    151.7650  47.825606  63.0     1\n",
       "1    139.7000  36.485807  63.0     0\n",
       "2    136.5250  31.864838  65.0     0\n",
       "3    156.8450  53.041915  41.0     1\n",
       "4    145.4150  41.276872  51.0     0\n",
       "5    163.8300  62.992589  35.0     1\n",
       "6    149.2250  38.243476  32.0     0\n",
       "7    168.9100  55.479971  27.0     1\n",
       "8    147.9550  34.869885  19.0     0\n",
       "9    165.1000  54.487739  54.0     1\n",
       "10   154.3050  49.895120  47.0     0\n",
       "11   151.1300  41.220173  66.0     1\n",
       "12   144.7800  36.032215  73.0     0\n",
       "13   149.9000  47.700000  20.0     0\n",
       "14   150.4950  33.849303  65.3     0\n",
       "15   163.1950  48.562694  36.0     1\n",
       "16   157.4800  42.325803  44.0     1\n",
       "17   143.9418  38.356873  31.0     0\n",
       "18   121.9200  19.617854  12.0     1\n",
       "19   105.4100  13.947954   8.0     0\n",
       "20    86.3600  10.489315   6.5     0\n",
       "21   161.2900  48.987936  39.0     1\n",
       "22   156.2100  42.722697  29.0     0\n",
       "23   129.5400  23.586784  13.0     1\n",
       "24   109.2200  15.989118   7.0     0\n",
       "25   146.4000  35.493574  56.0     1\n",
       "26   148.5900  37.903281  45.0     0\n",
       "27   147.3200  35.465224  19.0     0\n",
       "28   137.1600  27.328918  17.0     1\n",
       "29   125.7300  22.679600  16.0     0\n",
       "..        ...        ...   ...   ...\n",
       "514  151.7650  42.807745  43.0     0\n",
       "515  148.5900  35.890467  70.0     0\n",
       "516  153.6700  44.225220  26.0     0\n",
       "517   53.9750   4.252425   0.0     0\n",
       "518  146.6850  38.073378  48.0     0\n",
       "519   56.5150   5.159609   0.0     0\n",
       "520  100.9650  14.316498   5.0     1\n",
       "521  121.9200  23.218241   8.0     1\n",
       "522   81.5848  10.659412   3.0     0\n",
       "523  154.9400  44.111822  44.0     1\n",
       "524  156.2100  44.026773  33.0     0\n",
       "525  132.7150  24.975910  15.0     1\n",
       "526  125.0950  22.594552  12.0     0\n",
       "527  101.6000  14.344847   5.0     0\n",
       "528  160.6550  47.882306  41.0     1\n",
       "529  146.0500  39.405805  37.4     0\n",
       "530  132.7150  24.777463  13.0     0\n",
       "531   87.6300  10.659412   6.0     0\n",
       "532  156.2100  41.050076  53.0     1\n",
       "533  152.4000  40.823280  49.0     0\n",
       "534  162.5600  47.031821  27.0     0\n",
       "535  114.9350  17.519991   7.0     1\n",
       "536   67.9450   7.229123   1.0     0\n",
       "537  142.8750  34.246196  31.0     0\n",
       "538   76.8350   8.022908   1.0     1\n",
       "539  145.4150  31.127751  17.0     1\n",
       "540  162.5600  52.163080  31.0     1\n",
       "541  156.2100  54.062496  21.0     0\n",
       "542   71.1200   8.051258   0.0     1\n",
       "543  158.7500  52.531624  68.0     1\n",
       "\n",
       "[544 rows x 4 columns]"
      ]
     },
     "execution_count": 254,
     "metadata": {},
     "output_type": "execute_result"
    }
   ],
   "source": [
    "howell_data = pd.read_csv('./Data/Howell1.csv', delimiter=';')\n",
    "howell_data"
   ]
  },
  {
   "cell_type": "code",
   "execution_count": 255,
   "metadata": {},
   "outputs": [],
   "source": [
    "below_18 = howell_data[howell_data['age'] < 18]"
   ]
  },
  {
   "cell_type": "code",
   "execution_count": 256,
   "metadata": {},
   "outputs": [
    {
     "data": {
      "text/plain": [
       "(192, 4)"
      ]
     },
     "execution_count": 256,
     "metadata": {},
     "output_type": "execute_result"
    }
   ],
   "source": [
    "below_18.shape"
   ]
  },
  {
   "cell_type": "code",
   "execution_count": 258,
   "metadata": {},
   "outputs": [
    {
     "data": {
      "text/plain": [
       "18     121.9200\n",
       "19     105.4100\n",
       "20      86.3600\n",
       "23     129.5400\n",
       "24     109.2200\n",
       "28     137.1600\n",
       "29     125.7300\n",
       "30     114.3000\n",
       "45     144.7800\n",
       "46     121.9200\n",
       "47     128.9050\n",
       "48      97.7900\n",
       "53     127.0000\n",
       "54     110.4900\n",
       "55      97.7900\n",
       "70     129.5400\n",
       "71     129.5400\n",
       "74     146.0500\n",
       "77      91.4400\n",
       "80     147.9550\n",
       "81     137.7950\n",
       "86     113.6650\n",
       "94     118.7450\n",
       "98     113.0300\n",
       "100    133.9850\n",
       "108    148.5900\n",
       "109    111.1250\n",
       "110    111.7600\n",
       "113    124.4600\n",
       "114    111.7600\n",
       "         ...   \n",
       "480     91.4400\n",
       "483     83.1850\n",
       "486    123.8250\n",
       "487     88.9000\n",
       "489    137.1600\n",
       "492    111.1250\n",
       "494    145.4150\n",
       "496    144.7800\n",
       "503    123.8250\n",
       "504     85.0900\n",
       "507    106.0450\n",
       "508    126.3650\n",
       "511    124.4600\n",
       "512     89.5350\n",
       "513    101.6000\n",
       "517     53.9750\n",
       "519     56.5150\n",
       "520    100.9650\n",
       "521    121.9200\n",
       "522     81.5848\n",
       "525    132.7150\n",
       "526    125.0950\n",
       "527    101.6000\n",
       "530    132.7150\n",
       "531     87.6300\n",
       "535    114.9350\n",
       "536     67.9450\n",
       "538     76.8350\n",
       "539    145.4150\n",
       "542     71.1200\n",
       "Name: height, Length: 192, dtype: float64"
      ]
     },
     "execution_count": 258,
     "metadata": {},
     "output_type": "execute_result"
    }
   ],
   "source": [
    "below_18['height']"
   ]
  },
  {
   "cell_type": "markdown",
   "metadata": {},
   "source": [
    "### (a)\n",
    "Fit a linear regression to these data, using `map`. Present and interpret the estimates. For every 10 units of increase in weight, how much taller does the model predict a child gets?"
   ]
  },
  {
   "cell_type": "code",
   "execution_count": 281,
   "metadata": {},
   "outputs": [
    {
     "name": "stderr",
     "output_type": "stream",
     "text": [
      "Auto-assigning NUTS sampler...\n",
      "INFO:pymc3:Auto-assigning NUTS sampler...\n",
      "Initializing NUTS using jitter+adapt_diag...\n",
      "INFO:pymc3:Initializing NUTS using jitter+adapt_diag...\n",
      "100%|█████████▉| 20432/20500 [00:29<00:00, 700.95it/s]/Users/eddericugaddan/anaconda3/lib/python3.6/site-packages/pymc3/step_methods/hmc/nuts.py:451: UserWarning: The acceptance probability in chain 0 does not match the target. It is 0.881182756684, but should be close to 0.8. Try to increase the number of tuning steps.\n",
      "  % (self._chain_id, mean_accept, target_accept))\n",
      "100%|██████████| 20500/20500 [00:29<00:00, 701.15it/s]\n",
      "logp = -1,787, ||grad|| = 81.43: 100%|██████████| 20/20 [00:00<00:00, 2756.06it/s]  \n"
     ]
    }
   ],
   "source": [
    "with pm.Model() as howellModel1:\n",
    "    alpha = pm.Normal('alpha', 20, 10)\n",
    "    beta = pm.Normal('beta', 2, 1)\n",
    "    mu = beta * below_18['weight'] + alpha\n",
    "    sigma = pm.Uniform('sigma', 0, 5)\n",
    "    height_hat = pm.Normal('height_hat', mu, sigma, observed=below_18['height'])\n",
    "    trace_3_2_1 = pm.sample(20000)\n",
    "    map_3_2_1 = pm.find_MAP()"
   ]
  },
  {
   "cell_type": "code",
   "execution_count": 282,
   "metadata": {},
   "outputs": [
    {
     "data": {
      "text/plain": [
       "array([[<matplotlib.axes._subplots.AxesSubplot object at 0x1c3a2ce668>,\n",
       "        <matplotlib.axes._subplots.AxesSubplot object at 0x1c3a20a630>],\n",
       "       [<matplotlib.axes._subplots.AxesSubplot object at 0x1c3a38a4e0>,\n",
       "        <matplotlib.axes._subplots.AxesSubplot object at 0x1c3a225e80>],\n",
       "       [<matplotlib.axes._subplots.AxesSubplot object at 0x1c3a42f550>,\n",
       "        <matplotlib.axes._subplots.AxesSubplot object at 0x1c3a48e860>]], dtype=object)"
      ]
     },
     "execution_count": 282,
     "metadata": {},
     "output_type": "execute_result"
    },
    {
     "data": {
      "image/png": "[encoded data removed]",
      "text/plain": [
       "<matplotlib.figure.Figure at 0x1c3a2e1588>"
      ]
     },
     "metadata": {},
     "output_type": "display_data"
    }
   ],
   "source": [
    "pm.traceplot(trace_3_2_1[2000:])"
   ]
  },
  {
   "cell_type": "code",
   "execution_count": 283,
   "metadata": {},
   "outputs": [
    {
     "data": {
      "text/plain": [
       "{'alpha': array(57.99215377585025),\n",
       " 'beta': array(2.73035202556785),\n",
       " 'sigma': array(5.0),\n",
       " 'sigma_interval__': array(26.411698958047754)}"
      ]
     },
     "execution_count": 283,
     "metadata": {},
     "output_type": "execute_result"
    }
   ],
   "source": [
    "map_3_2_1"
   ]
  },
  {
   "cell_type": "markdown",
   "metadata": {},
   "source": [
    "#### Ans \n",
    "\n",
    "For every 10-kilo increase in weight, we should expect a 27.3-cm increase in height."
   ]
  },
  {
   "cell_type": "markdown",
   "metadata": {},
   "source": [
    "### (b)\n",
    "Plot the raw data, with height on the vectical axis and weight on the horizontal axis. Superimpose the MAP regression line and 89% HPDI for the mean. Also superimpose the 89% HPDI for predicted heights."
   ]
  },
  {
   "cell_type": "code",
   "execution_count": 284,
   "metadata": {},
   "outputs": [
    {
     "data": {
      "image/png": "[encoded data removed]",
      "text/plain": [
       "<matplotlib.figure.Figure at 0x1c3a553e48>"
      ]
     },
     "metadata": {},
     "output_type": "display_data"
    }
   ],
   "source": [
    "plt.plot(below_18.weight, below_18.height, 'o')\n",
    "#plt.plot(below_18.weight, trace_4_3['alpha'].mean() + trace_4_3['beta'].mean() * below_18.weight)\n",
    "plt.plot(below_18.weight, map_3_2_1['alpha'] + map_3_2_1['beta'] * below_18.weight)\n",
    "plt.xlabel(below_18.columns[1], fontsize=14)\n",
    "plt.ylabel(below_18.columns[0], fontsize=14);"
   ]
  },
  {
   "cell_type": "code",
   "execution_count": 301,
   "metadata": {},
   "outputs": [],
   "source": [
    "weight_seq = np.arange(5, 45)\n",
    "\n",
    "# Given that we have a lot of samples we can use less of them for plotting (or we can use all!)\n",
    "\n",
    "mu_pred = np.zeros((len(weight_seq), len(trace_3_2_1)))\n",
    "for i, w in enumerate(weight_seq):\n",
    "    mu_pred[i] = trace_3_2_1['alpha'] + trace_3_2_1['beta'] * w"
   ]
  },
  {
   "cell_type": "code",
   "execution_count": 286,
   "metadata": {},
   "outputs": [
    {
     "data": {
      "image/png": "[encoded data removed]",
      "text/plain": [
       "<matplotlib.figure.Figure at 0x1c3abfba58>"
      ]
     },
     "metadata": {},
     "output_type": "display_data"
    }
   ],
   "source": [
    "plt.plot(weight_seq, mu_pred, 'bo', alpha=0.1)\n",
    "plt.xlabel('weight', fontsize=14)\n",
    "plt.ylabel('height', fontsize=14);"
   ]
  },
  {
   "cell_type": "code",
   "execution_count": 287,
   "metadata": {},
   "outputs": [],
   "source": [
    "mu_mean = mu_pred.mean(1)\n",
    "mu_hpd = pm.hpd(mu_pred.T, alpha=.11)"
   ]
  },
  {
   "cell_type": "code",
   "execution_count": 288,
   "metadata": {},
   "outputs": [
    {
     "data": {
      "text/plain": [
       "(40, 20000)"
      ]
     },
     "execution_count": 288,
     "metadata": {},
     "output_type": "execute_result"
    }
   ],
   "source": [
    "mu_pred.shape"
   ]
  },
  {
   "cell_type": "code",
   "execution_count": 302,
   "metadata": {},
   "outputs": [
    {
     "name": "stderr",
     "output_type": "stream",
     "text": [
      "100%|██████████| 500/500 [00:00<00:00, 2989.29it/s]\n"
     ]
    }
   ],
   "source": [
    "height_pred = pm.sample_ppc(trace_3_2_1, 500, howellModel1)"
   ]
  },
  {
   "cell_type": "code",
   "execution_count": 303,
   "metadata": {},
   "outputs": [],
   "source": [
    "height_pred_hpd = pm.hpd(height_pred['height_hat'])"
   ]
  },
  {
   "cell_type": "code",
   "execution_count": 304,
   "metadata": {
    "scrolled": false
   },
   "outputs": [
    {
     "data": {
      "text/plain": [
       "array([[ 102.24507294,  121.74915182],\n",
       "       [  84.29461436,  104.46894037],\n",
       "       [  76.83113012,   95.34308889],\n",
       "       [ 113.90381409,  132.22636907],\n",
       "       [  92.43412612,  112.45830923],\n",
       "       [ 123.75557661,  143.19125618],\n",
       "       [ 110.41785044,  130.37772347],\n",
       "       [  96.12519878,  115.63598286],\n",
       "       [ 127.20826818,  146.23211036],\n",
       "       [ 103.15211835,  123.8849744 ],\n",
       "       [ 112.61219263,  131.53222537],\n",
       "       [  84.03999155,  102.01435402],\n",
       "       [ 107.73390923,  127.80890616],\n",
       "       [  89.09404565,  109.53426529],\n",
       "       [  83.08798666,  101.34053319],\n",
       "       [ 114.65655181,  134.06201685],\n",
       "       [ 117.29188475,  137.61388383],\n",
       "       [ 130.29294089,  147.96644416],\n",
       "       [  82.61150972,  101.53223121],\n",
       "       [ 162.50818964,  182.11667277],\n",
       "       [ 124.94809249,  143.29375311],\n",
       "       [  94.99522775,  114.056288  ],\n",
       "       [  99.66861488,  119.08960972],\n",
       "       [  97.93009166,  117.66386708],\n",
       "       [ 123.56216831,  143.43873645],\n",
       "       [ 136.93210548,  156.03114764],\n",
       "       [  94.85497612,  113.21454894],\n",
       "       [  94.22191372,  112.57441626],\n",
       "       [  97.64352447,  116.99187144],\n",
       "       [  88.33836408,  108.28790412],\n",
       "       [  80.17839189,   99.5358006 ],\n",
       "       [  75.52818201,   95.09149064],\n",
       "       [  84.37501686,  103.42813412],\n",
       "       [ 102.07768587,  121.98594401],\n",
       "       [  89.82777219,  108.70152486],\n",
       "       [ 129.69505388,  150.09193123],\n",
       "       [  79.16828352,   98.15269021],\n",
       "       [ 151.13998904,  171.80809084],\n",
       "       [ 108.16763437,  127.49499185],\n",
       "       [ 103.32749495,  121.86025912],\n",
       "       [  93.97188488,  114.01911009],\n",
       "       [ 107.39690261,  125.35501782],\n",
       "       [ 100.05925301,  118.30962607],\n",
       "       [  85.73561742,  104.27587532],\n",
       "       [ 108.75061293,  128.12792597],\n",
       "       [  83.41102569,  102.37107632],\n",
       "       [  84.19816989,  104.15411501],\n",
       "       [ 136.52670009,  154.89504478],\n",
       "       [ 111.7310868 ,  132.10994206],\n",
       "       [ 115.0413176 ,  134.67670743],\n",
       "       [ 107.59317874,  125.71674638],\n",
       "       [  83.56187687,  102.49816867],\n",
       "       [  98.20251977,  117.56479583],\n",
       "       [  85.19215132,  106.33839989],\n",
       "       [  84.11741615,  101.3550138 ],\n",
       "       [ 109.04099541,  128.82244322],\n",
       "       [  96.27966004,  114.79155604],\n",
       "       [ 170.75811351,  189.96813278],\n",
       "       [  87.79225238,  106.98542359],\n",
       "       [  99.56817712,  119.4988342 ],\n",
       "       [ 105.86277055,  124.78404212],\n",
       "       [  98.47302535,  117.80014814],\n",
       "       [ 159.16996378,  179.03661487],\n",
       "       [ 122.34113916,  141.38442189],\n",
       "       [ 104.6821686 ,  123.54767174],\n",
       "       [ 106.44073242,  125.54159779],\n",
       "       [  92.68836983,  111.67566893],\n",
       "       [ 166.50928272,  184.96759168],\n",
       "       [  87.20108736,  107.52917656],\n",
       "       [  90.39220557,  110.20722975],\n",
       "       [ 144.79827664,  163.57465056],\n",
       "       [ 106.56192329,  125.88263207],\n",
       "       [ 114.83749269,  134.82066256],\n",
       "       [ 139.6943502 ,  158.38150137],\n",
       "       [ 107.53204434,  126.83964598],\n",
       "       [  93.44725329,  113.40844305],\n",
       "       [ 144.11602355,  163.71709018],\n",
       "       [ 114.37711968,  132.81017851],\n",
       "       [  81.70355294,  100.44229788],\n",
       "       [ 160.02876335,  180.00403994],\n",
       "       [ 117.52890589,  136.46802767],\n",
       "       [  90.52101606,  108.67753889],\n",
       "       [  97.44419308,  115.90525956],\n",
       "       [ 158.58468951,  177.05416194],\n",
       "       [  80.62895521,  100.24502956],\n",
       "       [  80.90686709,   99.73173964],\n",
       "       [  63.99229515,   83.08373253],\n",
       "       [  81.19679894,   99.70414189],\n",
       "       [  98.56723222,  118.30987505],\n",
       "       [  79.26399849,   98.11640554],\n",
       "       [  93.62575167,  113.10007671],\n",
       "       [  65.77411641,   85.8227023 ],\n",
       "       [  81.07642325,  101.55969318],\n",
       "       [  90.08319626,  107.91072688],\n",
       "       [  74.52187605,   94.44131885],\n",
       "       [ 128.03703108,  147.16278839],\n",
       "       [  83.63099989,  102.50282507],\n",
       "       [ 105.4358813 ,  124.26770824],\n",
       "       [  92.42797685,  111.39438205],\n",
       "       [  95.1435321 ,  113.92272472],\n",
       "       [  83.93851673,  104.16987797],\n",
       "       [  84.21835011,  102.53286897],\n",
       "       [  64.85057819,   84.17472201],\n",
       "       [ 126.0164954 ,  146.68606294],\n",
       "       [  79.85260099,   99.57518379],\n",
       "       [  80.63664985,  100.25094256],\n",
       "       [  68.24639682,   88.07018009],\n",
       "       [  83.19852493,  101.07762062],\n",
       "       [  67.71770976,   87.60582086],\n",
       "       [  82.32707095,   99.88522944],\n",
       "       [  69.80606977,   88.84807652],\n",
       "       [  81.99266229,  100.0496257 ],\n",
       "       [  82.09713714,  101.19230935],\n",
       "       [  67.49966179,   87.28347919],\n",
       "       [  74.68067238,   93.36802274],\n",
       "       [ 126.01875062,  144.77455054],\n",
       "       [ 101.43271405,  121.9287851 ],\n",
       "       [  72.2367408 ,   90.97925544],\n",
       "       [  72.2957058 ,   90.18075619],\n",
       "       [  80.33282928,   98.92894923],\n",
       "       [  69.58079094,   89.53323793],\n",
       "       [ 123.19621416,  141.49134181],\n",
       "       [  77.12382005,   96.7493387 ],\n",
       "       [  85.91996275,  105.79001043],\n",
       "       [ 103.88063723,  121.99334525],\n",
       "       [  97.89240165,  116.72309061],\n",
       "       [  78.83623557,   97.87767957],\n",
       "       [ 122.86622379,  141.3814945 ],\n",
       "       [ 100.25380335,  118.30843499],\n",
       "       [  85.54440739,  105.07805502],\n",
       "       [ 120.07479906,  139.72701628],\n",
       "       [  73.9019796 ,   93.98009236],\n",
       "       [  69.89231124,   89.20855012],\n",
       "       [ 100.97666898,  121.18157836],\n",
       "       [ 151.30101589,  170.53387905],\n",
       "       [  69.09954067,   88.15682892],\n",
       "       [ 125.65996042,  144.91602157],\n",
       "       [  70.13603049,   88.55226708],\n",
       "       [  69.34980462,   89.27685834],\n",
       "       [ 109.84360773,  129.6896306 ],\n",
       "       [  73.62363443,   92.882026  ],\n",
       "       [ 129.82934051,  148.94682066],\n",
       "       [ 126.07989582,  143.88603702],\n",
       "       [ 104.54914274,  123.78166587],\n",
       "       [ 155.64027878,  175.4404529 ],\n",
       "       [  84.04380601,  103.14393084],\n",
       "       [  66.39307623,   86.44530207],\n",
       "       [ 117.06300126,  136.23506454],\n",
       "       [  92.18148706,  111.0629724 ],\n",
       "       [  71.24494429,   89.54895006],\n",
       "       [ 126.07600674,  145.55517714],\n",
       "       [  71.24879493,   89.22325035],\n",
       "       [  67.84902613,   88.34309957],\n",
       "       [ 136.8063657 ,  156.30010941],\n",
       "       [  67.84818758,   87.26412506],\n",
       "       [ 161.79659093,  182.63871777],\n",
       "       [  61.24215548,   80.49064481],\n",
       "       [  64.48001793,   83.68818835],\n",
       "       [  96.29495336,  116.29303027],\n",
       "       [  70.73037695,   88.8718184 ],\n",
       "       [ 103.13146287,  122.40578464],\n",
       "       [  82.61002679,  102.37596406],\n",
       "       [  79.40871096,   99.44136972],\n",
       "       [  73.42460484,   92.35256618],\n",
       "       [ 107.61405006,  125.08366653],\n",
       "       [  78.68007006,   98.85664336],\n",
       "       [ 125.05286511,  143.78098592],\n",
       "       [  96.96991447,  116.64704157],\n",
       "       [ 141.76398637,  161.73740328],\n",
       "       [ 137.26991804,  156.87162634],\n",
       "       [ 107.74031913,  125.09627253],\n",
       "       [  79.66698189,   98.39839051],\n",
       "       [  89.72667838,  110.00729926],\n",
       "       [ 108.6845383 ,  128.39963775],\n",
       "       [ 100.98839483,  121.06949353],\n",
       "       [  80.0410836 ,   99.06625778],\n",
       "       [  84.57671055,  103.76971541],\n",
       "       [  60.18019461,   79.22874265],\n",
       "       [  62.47899507,   81.51797944],\n",
       "       [  89.31752688,  107.96500863],\n",
       "       [ 112.6219607 ,  131.25994499],\n",
       "       [  76.76474831,   96.14977232],\n",
       "       [ 117.25367506,  134.22672006],\n",
       "       [ 110.62522964,  130.05705158],\n",
       "       [  87.6340174 ,  106.0926029 ],\n",
       "       [ 115.97858173,  134.87435047],\n",
       "       [  76.46059903,   95.84083406],\n",
       "       [  96.45498079,  114.80654986],\n",
       "       [  68.75793295,   88.21232923],\n",
       "       [  71.26934824,   89.63244687],\n",
       "       [ 133.34116243,  152.38826516],\n",
       "       [  70.86430058,   89.44924463]])"
      ]
     },
     "execution_count": 304,
     "metadata": {},
     "output_type": "execute_result"
    }
   ],
   "source": [
    "height_pred_hpd"
   ]
  },
  {
   "cell_type": "code",
   "execution_count": 305,
   "metadata": {},
   "outputs": [],
   "source": [
    "idx = np.argsort(below_18.weight.values)\n",
    "below_18_weight_ord = below_18.weight.values[idx]\n",
    "height_pred_hpd = height_pred_hpd[idx]"
   ]
  },
  {
   "cell_type": "code",
   "execution_count": 328,
   "metadata": {},
   "outputs": [
    {
     "data": {
      "text/plain": [
       "array(57.99215377585025)"
      ]
     },
     "execution_count": 328,
     "metadata": {},
     "output_type": "execute_result"
    }
   ],
   "source": [
    "map_3_2_1['alpha']"
   ]
  },
  {
   "cell_type": "code",
   "execution_count": 306,
   "metadata": {},
   "outputs": [
    {
     "data": {
      "image/png": "[encoded data removed]",
      "text/plain": [
       "<matplotlib.figure.Figure at 0x1c32ac1f28>"
      ]
     },
     "metadata": {},
     "output_type": "display_data"
    }
   ],
   "source": [
    "plt.scatter(below_18.weight, below_18.height, c='b', alpha=0.3)\n",
    "plt.plot(below_18.weight, map_3_2_1['alpha'] + map_3_2_1['beta'] * below_18.weight)\n",
    "plt.plot(weight_seq, mu_mean, 'r')\n",
    "plt.fill_between(weight_seq, mu_hpd[:,0], mu_hpd[:,1], color='r', alpha=0.5)\n",
    "plt.fill_between(\n",
    "    below_18_weight_ord, height_pred_hpd[:,0], height_pred_hpd[:,1], color='r', alpha=0.5)\n",
    "plt.xlabel('weight', fontsize=14)\n",
    "plt.ylabel('height', fontsize=14)\n",
    "plt.xlim(below_18.weight.min(), below_18.weight.max());"
   ]
  },
  {
   "cell_type": "markdown",
   "metadata": {},
   "source": [
    "### (c) \n",
    "What aspects of the model fit concern you? Describe the kinds of assumptions you want to change, if any, to improve the model. You don't have to write any new code. Just explain what model appears to be doing a bad job of, and what you hypothesize would be a better model."
   ]
  },
  {
   "cell_type": "markdown",
   "metadata": {},
   "source": [
    "#### Ans\n",
    "\n",
    "It seems to do consistently poorly in the extremes and in the middle (i.e. when weight is low it over-predicts the height, when weight is high, it under-predicts the height). It seems like the relationship between weight and height is not linear -- one could experiment with quadratic terms, or using the logarithm of the weight as a predictor, instead of the weight itself."
   ]
  },
  {
   "cell_type": "markdown",
   "metadata": {},
   "source": [
    "## 4H3\n",
    "\n",
    "Suppose a colleague of yours, who works on allometry, glances at the practice problems above. Your colleague exclaims, \"That's silly. Everyone knows that it's only the _logarithm_ of the weight that scales with height!\" Let's take your colleagues advice and see what happens.\n",
    "\n",
    "### (a)\n",
    "\n",
    "Model the relationship between height (cm) and the natural logarithm of weight (log-kg). Use the entire `Howell1` data frame, all 544 rows, adults and non-adults. Fit this model using quadratic approximation.\n",
    "\n",
    "$$\n",
    "\\begin{equation}\n",
    "\\begin{aligned}\n",
    "    h_i \\sim \\text{Normal}(\\mu_i,\\sigma) \\\\\n",
    "    \\mu_i = \\alpha + \\beta \\text{log}(w_i) \\\\\n",
    "    \\alpha \\sim \\text{Normal}(178,100) \\\\\n",
    "    \\beta \\sim \\text{Normal}(0,100) \\\\\n",
    "    \\sigma \\sim \\text{Uniform}(0,50)\n",
    "\\end{aligned}\n",
    "\\end{equation}\n",
    "$$where $h_i$ is the height of an individual $i$ and $w_i$ is the weight (in kg) of individual _i_. The function for computing a natural log in R is just `log`. Can you interpret the resulting estimates?"
   ]
  },
  {
   "cell_type": "code",
   "execution_count": 308,
   "metadata": {},
   "outputs": [
    {
     "name": "stderr",
     "output_type": "stream",
     "text": [
      "Auto-assigning NUTS sampler...\n",
      "INFO:pymc3:Auto-assigning NUTS sampler...\n",
      "Initializing NUTS using jitter+adapt_diag...\n",
      "INFO:pymc3:Initializing NUTS using jitter+adapt_diag...\n",
      "100%|█████████▉| 20487/20500 [01:25<00:00, 238.25it/s]/Users/eddericugaddan/anaconda3/lib/python3.6/site-packages/pymc3/step_methods/hmc/nuts.py:451: UserWarning: The acceptance probability in chain 0 does not match the target. It is 0.894689695168, but should be close to 0.8. Try to increase the number of tuning steps.\n",
      "  % (self._chain_id, mean_accept, target_accept))\n",
      "100%|██████████| 20500/20500 [01:26<00:00, 238.19it/s]\n"
     ]
    }
   ],
   "source": [
    "with pm.Model() as model_4H2:\n",
    "    alpha = pm.Normal('alpha', 178, 100)\n",
    "    beta = pm.Normal('beta', 0, 100)\n",
    "    sigma = pm.Uniform('sigma', 0, 50)\n",
    "    mu = alpha + beta * np.log(howell_data['weight'])\n",
    "    height_hat = pm.Normal('height_hat', mu, sigma, observed=howell_data['height'])\n",
    "    trace_4H2 = pm.sample(20000)"
   ]
  },
  {
   "cell_type": "code",
   "execution_count": 311,
   "metadata": {},
   "outputs": [
    {
     "data": {
      "text/plain": [
       "array([[<matplotlib.axes._subplots.AxesSubplot object at 0x1c36e7f710>,\n",
       "        <matplotlib.axes._subplots.AxesSubplot object at 0x1c36f3fbe0>],\n",
       "       [<matplotlib.axes._subplots.AxesSubplot object at 0x1c36f8ff28>,\n",
       "        <matplotlib.axes._subplots.AxesSubplot object at 0x1c36fdbb70>],\n",
       "       [<matplotlib.axes._subplots.AxesSubplot object at 0x1c37034908>,\n",
       "        <matplotlib.axes._subplots.AxesSubplot object at 0x1c36fec470>]], dtype=object)"
      ]
     },
     "execution_count": 311,
     "metadata": {},
     "output_type": "execute_result"
    },
    {
     "data": {
      "image/png": "[encoded data removed]",
      "text/plain": [
       "<matplotlib.figure.Figure at 0x1c3688fac8>"
      ]
     },
     "metadata": {},
     "output_type": "display_data"
    }
   ],
   "source": [
    "pm.traceplot(trace_4H2[1000:])"
   ]
  },
  {
   "cell_type": "markdown",
   "metadata": {},
   "source": [
    "### (b) \n",
    "\n",
    "Begin with this plot:\n",
    "\n",
    "    plot(height ~ weight, data= Howell1, col = col.alpha(rangi2,0.4) )\n",
    "    \n",
    "Then use samples from the quadratic approximate posterior of the model in (a) to superipose on the plot: (1) the predicted mean height as a function of weight, (2) the 97% HPDI for the mean, and (3) the 975 HPDI for predicted heights."
   ]
  },
  {
   "cell_type": "code",
   "execution_count": 321,
   "metadata": {},
   "outputs": [
    {
     "name": "stderr",
     "output_type": "stream",
     "text": [
      "100%|██████████| 500/500 [00:00<00:00, 2747.55it/s]\n"
     ]
    }
   ],
   "source": [
    "idx = np.argsort(howell_data.weight.values)\n",
    "howell_data_weight_ord = howell_data.weight.values[idx]\n",
    "howell_data_height_pred = pm.sample_ppc(trace_4H2, 500, model_4H2)\n",
    "howell_data_height_pred_hpd = pm.hpd(\n",
    "    howell_data_height_pred['height_hat'],\n",
    "    alpha=0.03\n",
    ")[idx]"
   ]
  },
  {
   "cell_type": "code",
   "execution_count": 323,
   "metadata": {},
   "outputs": [
    {
     "data": {
      "text/plain": [
       "(544,)"
      ]
     },
     "execution_count": 323,
     "metadata": {},
     "output_type": "execute_result"
    }
   ],
   "source": [
    "howell_data.weight.shape"
   ]
  },
  {
   "cell_type": "code",
   "execution_count": 325,
   "metadata": {
    "scrolled": true
   },
   "outputs": [
    {
     "data": {
      "text/plain": [
       "(20000,)"
      ]
     },
     "execution_count": 325,
     "metadata": {},
     "output_type": "execute_result"
    }
   ],
   "source": [
    "trace_4H2['alpha'].shape"
   ]
  },
  {
   "cell_type": "code",
   "execution_count": 331,
   "metadata": {
    "scrolled": true
   },
   "outputs": [
    {
     "data": {
      "text/plain": [
       "-23.774490168147175"
      ]
     },
     "execution_count": 331,
     "metadata": {},
     "output_type": "execute_result"
    }
   ],
   "source": [
    "trace_4H2['alpha'].mean()"
   ]
  },
  {
   "cell_type": "code",
   "execution_count": 332,
   "metadata": {
    "scrolled": true
   },
   "outputs": [
    {
     "data": {
      "text/plain": [
       "47.071861174505422"
      ]
     },
     "execution_count": 332,
     "metadata": {},
     "output_type": "execute_result"
    }
   ],
   "source": [
    "trace_4H2['beta'].mean()"
   ]
  },
  {
   "cell_type": "code",
   "execution_count": 343,
   "metadata": {},
   "outputs": [
    {
     "data": {
      "image/png": "[encoded data removed]",
      "text/plain": [
       "<matplotlib.figure.Figure at 0x1c3accd2b0>"
      ]
     },
     "metadata": {},
     "output_type": "display_data"
    }
   ],
   "source": [
    "plt.scatter(howell_data.weight, howell_data.height, c='b', alpha=0.3)\n",
    "potential_weight_values = np.linspace(howell_data.weight.min(),howell_data.weight.max(),1000)\n",
    "plt.plot(\n",
    "    potential_weight_values, \n",
    "        trace_4H2['beta'].mean() * np.log(potential_weight_values) + trace_4H2['alpha'].mean(),\n",
    "        'go')\n",
    "#plt.plot(weight_seq, mu_mean, 'r')\n",
    "#plt.fill_between(weight_seq, mu_hpd[:,0], mu_hpd[:,1], color='r', alpha=0.5)\n",
    "plt.fill_between(\n",
    "    howell_data_weight_ord, \n",
    "    howell_data_height_pred_hpd[:,0], \n",
    "    howell_data_height_pred_hpd[:,1], color='r', alpha=0.5)\n",
    "plt.xlabel('weight', fontsize=14)\n",
    "plt.ylabel('height', fontsize=14)\n",
    "plt.xlim(howell_data.weight.min(), howell_data.weight.max());"
   ]
  },
  {
   "cell_type": "code",
   "execution_count": null,
   "metadata": {},
   "outputs": [],
   "source": []
  },
  {
   "cell_type": "code",
   "execution_count": null,
   "metadata": {},
   "outputs": [],
   "source": []
  }
 ],
 "metadata": {
  "kernelspec": {
   "display_name": "Python 3",
   "language": "python",
   "name": "python3"
  },
  "language_info": {
   "codemirror_mode": {
    "name": "ipython",
    "version": 3
   },
   "file_extension": ".py",
   "mimetype": "text/x-python",
   "name": "python",
   "nbconvert_exporter": "python",
   "pygments_lexer": "ipython3",
   "version": "3.6.0"
  },
  "toc": {
   "colors": {
    "hover_highlight": "#DAA520",
    "navigate_num": "#000000",
    "navigate_text": "#333333",
    "running_highlight": "#FF0000",
    "selected_highlight": "#FFD700",
    "sidebar_border": "#EEEEEE",
    "wrapper_background": "#FFFFFF"
   },
   "moveMenuLeft": true,
   "nav_menu": {
    "height": "312px",
    "width": "254px"
   },
   "navigate_menu": true,
   "number_sections": true,
   "sideBar": true,
   "threshold": "5",
   "toc_cell": true,
   "toc_section_display": "block",
   "toc_window_display": true,
   "widenNotebook": false
  }
 },
 "nbformat": 4,
 "nbformat_minor": 2
}
